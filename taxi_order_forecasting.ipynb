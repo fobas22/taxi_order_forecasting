{
  "cells": [
    {
      "cell_type": "markdown",
      "id": "687a9bc3",
      "metadata": {
        "id": "687a9bc3"
      },
      "source": [
        "# Прогнозирование заказов таксти"
      ]
    },
    {
      "cell_type": "markdown",
      "id": "bef529b2",
      "metadata": {
        "id": "bef529b2"
      },
      "source": [
        "## Описание проекта\n",
        "\n",
        "Компания «Чётенькое такси» собрала исторические данные о заказах такси в аэропортах. Чтобы привлекать больше водителей в период пиковой нагрузки, нужно спрогнозировать количество заказов такси на следующий час. Постройте модель для такого предсказания. Значение метрики RMSE на тестовой выборке должно быть не больше 48.\n",
        "    \n",
        "## План работы\n",
        "\n",
        "1. Загрузите данные и выполните их ресемплирование по одному часу.\n",
        "\n",
        "2. Проанализируйте данные.\n",
        "\n",
        "3. Обучите разные модели с различными гиперпараметрами. Сделайте тестовую выборку размером 10% от исходных данных.\n",
        "\n",
        "4. Проверьте модель на тестовой выборке и сделайте выводы."
      ]
    },
    {
      "cell_type": "markdown",
      "id": "b467284b",
      "metadata": {
        "id": "b467284b"
      },
      "source": [
        "## Загрузка и ресемплирование данных"
      ]
    },
    {
      "cell_type": "markdown",
      "id": "b3434143",
      "metadata": {
        "id": "b3434143"
      },
      "source": [
        "###  Загрузка библиотек"
      ]
    },
    {
      "cell_type": "code",
      "execution_count": null,
      "id": "dd6659f4",
      "metadata": {
        "id": "dd6659f4"
      },
      "outputs": [],
      "source": [
        "!pip install catboost -q\n",
        "!pip install lightgbm -q\n",
        "!pip install --upgrade scikit-learn -q"
      ]
    },
    {
      "cell_type": "code",
      "execution_count": null,
      "id": "5efc4eed",
      "metadata": {
        "id": "5efc4eed"
      },
      "outputs": [],
      "source": [
        "import pandas as pd\n",
        "import numpy as np\n",
        "import seaborn as sns\n",
        "import matplotlib.pyplot as plt\n",
        "\n",
        "from statsmodels.tsa.seasonal import seasonal_decompose\n",
        "from sklearn.model_selection import train_test_split, GridSearchCV, TimeSeriesSplit\n",
        "\n",
        "from sklearn.pipeline import Pipeline\n",
        "from sklearn.compose import ColumnTransformer\n",
        "from sklearn.preprocessing import StandardScaler, OneHotEncoder\n",
        "\n",
        "\n",
        "from  sklearn.dummy import DummyRegressor\n",
        "from sklearn.linear_model import (\n",
        "    LinearRegression,\n",
        "    Lasso,\n",
        "    Ridge,\n",
        "    SGDRegressor)\n",
        "from lightgbm import LGBMRegressor\n",
        "from catboost import CatBoostRegressor\n",
        "\n",
        "from sklearn.metrics import mean_squared_error"
      ]
    },
    {
      "cell_type": "code",
      "execution_count": null,
      "id": "cb8eda28",
      "metadata": {
        "id": "cb8eda28"
      },
      "outputs": [],
      "source": [
        "import warnings\n",
        "warnings.filterwarnings('ignore')"
      ]
    },
    {
      "cell_type": "markdown",
      "id": "9ed530fe",
      "metadata": {
        "id": "9ed530fe"
      },
      "source": [
        "### Загрузка и ознакомление с данными"
      ]
    },
    {
      "cell_type": "markdown",
      "id": "e37a84aa",
      "metadata": {
        "id": "e37a84aa"
      },
      "source": [
        "Загрузим датасет в переменную, а также сразу превратив колонку датой в индексы."
      ]
    },
    {
      "cell_type": "code",
      "execution_count": null,
      "id": "1ceebb49",
      "metadata": {
        "id": "1ceebb49"
      },
      "outputs": [],
      "source": [
        "\n",
        "\n",
        "try:\n",
        "    df = pd.read_csv('/datasets/taxi.csv', parse_dates=['datetime'], index_col = 'datetime')\n",
        "except:\n",
        "    df = pd.read_csv('https://code.s3.yandex.net/datasets/taxi.csv', parse_dates=['datetime'], index_col = 'datetime')"
      ]
    },
    {
      "cell_type": "markdown",
      "id": "117caddd",
      "metadata": {
        "id": "117caddd"
      },
      "source": [
        "Выведем первые 5 строк"
      ]
    },
    {
      "cell_type": "code",
      "execution_count": null,
      "id": "35f1a285",
      "metadata": {
        "scrolled": false,
        "id": "35f1a285",
        "outputId": "7d6f2913-c42a-4c0f-acb0-3c4ad79459c0"
      },
      "outputs": [
        {
          "data": {
            "text/html": [
              "<div>\n",
              "<style scoped>\n",
              "    .dataframe tbody tr th:only-of-type {\n",
              "        vertical-align: middle;\n",
              "    }\n",
              "\n",
              "    .dataframe tbody tr th {\n",
              "        vertical-align: top;\n",
              "    }\n",
              "\n",
              "    .dataframe thead th {\n",
              "        text-align: right;\n",
              "    }\n",
              "</style>\n",
              "<table border=\"1\" class=\"dataframe\">\n",
              "  <thead>\n",
              "    <tr style=\"text-align: right;\">\n",
              "      <th></th>\n",
              "      <th>num_orders</th>\n",
              "    </tr>\n",
              "    <tr>\n",
              "      <th>datetime</th>\n",
              "      <th></th>\n",
              "    </tr>\n",
              "  </thead>\n",
              "  <tbody>\n",
              "    <tr>\n",
              "      <th>2018-03-01 00:00:00</th>\n",
              "      <td>9</td>\n",
              "    </tr>\n",
              "    <tr>\n",
              "      <th>2018-03-01 00:10:00</th>\n",
              "      <td>14</td>\n",
              "    </tr>\n",
              "    <tr>\n",
              "      <th>2018-03-01 00:20:00</th>\n",
              "      <td>28</td>\n",
              "    </tr>\n",
              "    <tr>\n",
              "      <th>2018-03-01 00:30:00</th>\n",
              "      <td>20</td>\n",
              "    </tr>\n",
              "    <tr>\n",
              "      <th>2018-03-01 00:40:00</th>\n",
              "      <td>32</td>\n",
              "    </tr>\n",
              "  </tbody>\n",
              "</table>\n",
              "</div>"
            ],
            "text/plain": [
              "                     num_orders\n",
              "datetime                       \n",
              "2018-03-01 00:00:00           9\n",
              "2018-03-01 00:10:00          14\n",
              "2018-03-01 00:20:00          28\n",
              "2018-03-01 00:30:00          20\n",
              "2018-03-01 00:40:00          32"
            ]
          },
          "execution_count": 5,
          "metadata": {},
          "output_type": "execute_result"
        }
      ],
      "source": [
        "df.head()"
      ]
    },
    {
      "cell_type": "markdown",
      "id": "c7d22efc",
      "metadata": {
        "id": "c7d22efc"
      },
      "source": [
        "Данные выглядят загруженными корректно"
      ]
    },
    {
      "cell_type": "markdown",
      "id": "620fce4c",
      "metadata": {
        "id": "620fce4c"
      },
      "source": [
        "Просмотрим на тип данных и наличие пропусков"
      ]
    },
    {
      "cell_type": "code",
      "execution_count": null,
      "id": "ff69eeac",
      "metadata": {
        "scrolled": false,
        "id": "ff69eeac",
        "outputId": "73ca6688-75bb-4106-ac6b-1b1b4679bd34"
      },
      "outputs": [
        {
          "name": "stdout",
          "output_type": "stream",
          "text": [
            "<class 'pandas.core.frame.DataFrame'>\n",
            "DatetimeIndex: 26496 entries, 2018-03-01 00:00:00 to 2018-08-31 23:50:00\n",
            "Data columns (total 1 columns):\n",
            " #   Column      Non-Null Count  Dtype\n",
            "---  ------      --------------  -----\n",
            " 0   num_orders  26496 non-null  int64\n",
            "dtypes: int64(1)\n",
            "memory usage: 414.0 KB\n"
          ]
        }
      ],
      "source": [
        "df.info()"
      ]
    },
    {
      "cell_type": "markdown",
      "id": "8c5f8bfa",
      "metadata": {
        "id": "8c5f8bfa"
      },
      "source": [
        "Тип данных соответсвует содержанию. В данных отсутсвуют пропуски"
      ]
    },
    {
      "cell_type": "markdown",
      "id": "f1ad011f",
      "metadata": {
        "id": "f1ad011f"
      },
      "source": [
        "Проверим наличие дубликатов в индексах"
      ]
    },
    {
      "cell_type": "code",
      "execution_count": null,
      "id": "5b25cbd7",
      "metadata": {
        "scrolled": true,
        "id": "5b25cbd7",
        "outputId": "6854324b-f2bd-4400-d816-5553d6a58327"
      },
      "outputs": [
        {
          "data": {
            "text/plain": [
              "0"
            ]
          },
          "execution_count": 7,
          "metadata": {},
          "output_type": "execute_result"
        }
      ],
      "source": [
        "df.index.duplicated().sum()"
      ]
    },
    {
      "cell_type": "markdown",
      "id": "d34374cb",
      "metadata": {
        "id": "d34374cb"
      },
      "source": [
        "Дубликаты в индексах остутствуют"
      ]
    },
    {
      "cell_type": "markdown",
      "id": "2560d718",
      "metadata": {
        "id": "2560d718"
      },
      "source": [
        "Теперь убедимся в том, что временной ряд упорядочен"
      ]
    },
    {
      "cell_type": "code",
      "execution_count": null,
      "id": "935f5f93",
      "metadata": {
        "id": "935f5f93",
        "outputId": "68b4958e-7673-49e6-857c-afb3fbfbbb14"
      },
      "outputs": [
        {
          "name": "stdout",
          "output_type": "stream",
          "text": [
            "Временной ряд не упорядочен\n"
          ]
        }
      ],
      "source": [
        "if (df.index.is_monotonic):\n",
        "    print('Временной ряд не упорядочен')\n",
        "else:\n",
        "    print('Временной ряд упорядочен')"
      ]
    },
    {
      "cell_type": "markdown",
      "id": "2c01c6b5",
      "metadata": {
        "id": "2c01c6b5"
      },
      "source": [
        "Проверим наличие выбросов в данных. Для этого построим распределение по временному ряду."
      ]
    },
    {
      "cell_type": "code",
      "execution_count": null,
      "id": "a7ee14af",
      "metadata": {
        "scrolled": true,
        "id": "a7ee14af",
        "outputId": "50f1d9df-b51e-44ce-9b6e-5e348cf13599"
      },
      "outputs": [
        {
          "data": {
            "image/png": "[encoded data removed]",
            "text/plain": [
              "<Figure size 1152x360 with 1 Axes>"
            ]
          },
          "metadata": {
            "needs_background": "light"
          },
          "output_type": "display_data"
        }
      ],
      "source": [
        "plt.figure(figsize=(16, 5))\n",
        "plt.plot( df['num_orders'], color='blue')\n",
        "plt.title('График количества заказов за промежуток времени')\n",
        "plt.xlabel('Дата и время')\n",
        "plt.ylabel('К-во заказов')\n",
        "plt.show()"
      ]
    },
    {
      "cell_type": "markdown",
      "id": "5191bcc7",
      "metadata": {
        "id": "5191bcc7"
      },
      "source": [
        "Таким образом мы видем, что значительно выбивающихся из общей картины данных не наблюдается"
      ]
    },
    {
      "cell_type": "markdown",
      "id": "7d45a75a",
      "metadata": {
        "id": "7d45a75a"
      },
      "source": [
        "###  Ресемплирование данных"
      ]
    },
    {
      "cell_type": "markdown",
      "id": "7e6799cc",
      "metadata": {
        "id": "7e6799cc"
      },
      "source": [
        "Теперь проведем ресемплирование данных по одному часу"
      ]
    },
    {
      "cell_type": "code",
      "execution_count": null,
      "id": "102744b4",
      "metadata": {
        "scrolled": false,
        "id": "102744b4",
        "outputId": "0d8b95c6-1a0a-4b97-fbab-a20509b975a0"
      },
      "outputs": [
        {
          "data": {
            "text/html": [
              "<div>\n",
              "<style scoped>\n",
              "    .dataframe tbody tr th:only-of-type {\n",
              "        vertical-align: middle;\n",
              "    }\n",
              "\n",
              "    .dataframe tbody tr th {\n",
              "        vertical-align: top;\n",
              "    }\n",
              "\n",
              "    .dataframe thead th {\n",
              "        text-align: right;\n",
              "    }\n",
              "</style>\n",
              "<table border=\"1\" class=\"dataframe\">\n",
              "  <thead>\n",
              "    <tr style=\"text-align: right;\">\n",
              "      <th></th>\n",
              "      <th>num_orders</th>\n",
              "    </tr>\n",
              "    <tr>\n",
              "      <th>datetime</th>\n",
              "      <th></th>\n",
              "    </tr>\n",
              "  </thead>\n",
              "  <tbody>\n",
              "    <tr>\n",
              "      <th>2018-03-01 00:00:00</th>\n",
              "      <td>124</td>\n",
              "    </tr>\n",
              "    <tr>\n",
              "      <th>2018-03-01 01:00:00</th>\n",
              "      <td>85</td>\n",
              "    </tr>\n",
              "    <tr>\n",
              "      <th>2018-03-01 02:00:00</th>\n",
              "      <td>71</td>\n",
              "    </tr>\n",
              "    <tr>\n",
              "      <th>2018-03-01 03:00:00</th>\n",
              "      <td>66</td>\n",
              "    </tr>\n",
              "    <tr>\n",
              "      <th>2018-03-01 04:00:00</th>\n",
              "      <td>43</td>\n",
              "    </tr>\n",
              "  </tbody>\n",
              "</table>\n",
              "</div>"
            ],
            "text/plain": [
              "                     num_orders\n",
              "datetime                       \n",
              "2018-03-01 00:00:00         124\n",
              "2018-03-01 01:00:00          85\n",
              "2018-03-01 02:00:00          71\n",
              "2018-03-01 03:00:00          66\n",
              "2018-03-01 04:00:00          43"
            ]
          },
          "execution_count": 10,
          "metadata": {},
          "output_type": "execute_result"
        }
      ],
      "source": [
        "df_res = df.resample('1H').sum()\n",
        "df_res.head()"
      ]
    },
    {
      "cell_type": "markdown",
      "id": "34141b93",
      "metadata": {
        "id": "34141b93"
      },
      "source": [
        "Теперь данные разделены 60 минутным временным промежутком, а не 10 минутным, как было раньше"
      ]
    },
    {
      "cell_type": "markdown",
      "id": "d53a869e",
      "metadata": {
        "id": "d53a869e"
      },
      "source": [
        "Отчистим память от ненужной переменной"
      ]
    },
    {
      "cell_type": "code",
      "execution_count": null,
      "id": "27b7dd83",
      "metadata": {
        "id": "27b7dd83"
      },
      "outputs": [],
      "source": [
        "del df"
      ]
    },
    {
      "cell_type": "markdown",
      "id": "04fa0b4c",
      "metadata": {
        "id": "04fa0b4c"
      },
      "source": [
        "### Вывод"
      ]
    },
    {
      "cell_type": "markdown",
      "id": "11b1c323",
      "metadata": {
        "id": "11b1c323"
      },
      "source": [
        "* Данные загружены без ошибок\n",
        "* Тип данных соответсвует содержанию\n",
        "* В данных отсутсвуют пропуски\n",
        "* Дублекаты временных отрезков отсутсвуют\n",
        "* Временные отрезки упорядочены\n",
        "* Выбросы в данных отсутствуют\n",
        "* Проведено ресемплирование данных по одному часу"
      ]
    },
    {
      "cell_type": "markdown",
      "id": "e313291f",
      "metadata": {
        "id": "e313291f"
      },
      "source": [
        "## Анализ данных"
      ]
    },
    {
      "cell_type": "markdown",
      "id": "3cef64de",
      "metadata": {
        "id": "3cef64de"
      },
      "source": [
        "### Распределение  временного ряда"
      ]
    },
    {
      "cell_type": "markdown",
      "id": "aa8365e6",
      "metadata": {
        "id": "aa8365e6"
      },
      "source": [
        "Построим гистрограмму распределения временных рядов с целью выявления закономерностей"
      ]
    },
    {
      "cell_type": "code",
      "execution_count": null,
      "id": "2bf54b3b",
      "metadata": {
        "id": "2bf54b3b"
      },
      "outputs": [],
      "source": [
        "def feed_info(df,column, x, y, bins):\n",
        "    #(2 строки, 1 столбец)\n",
        "    fig, axs = plt.subplots(2, 1, figsize=(5, 7))\n",
        "\n",
        "    # Верхний график - гистограмма\n",
        "    axs[0].hist(df[column], bins=bins)\n",
        "    axs[0].set_title(f'Распределение по {column}')\n",
        "    axs[0].set_xlabel(x)\n",
        "    axs[0].set_ylabel(y)\n",
        "    axs[0].grid(True)\n",
        "\n",
        "    # Нижний график - ящик\n",
        "    boxplot = sns.boxplot(data=df, x=column, ax=axs[1])\n",
        "    boxplot.set_title(f'Ящик с усами для {column}')\n",
        "\n",
        "    # Располагает графики более компактно\n",
        "    plt.tight_layout()\n",
        "    plt.show()\n",
        "\n",
        "    # Теперь выведем общую статистику\n",
        "    print(f'Статистика по {column}:')\n",
        "    print(df[column].describe())"
      ]
    },
    {
      "cell_type": "code",
      "execution_count": null,
      "id": "34a07f92",
      "metadata": {
        "scrolled": false,
        "id": "34a07f92",
        "outputId": "e916d3be-43cd-438c-cb58-156e975157ff"
      },
      "outputs": [
        {
          "data": {
            "image/png": "[encoded data removed]",
            "text/plain": [
              "<Figure size 360x504 with 2 Axes>"
            ]
          },
          "metadata": {
            "needs_background": "light"
          },
          "output_type": "display_data"
        },
        {
          "name": "stdout",
          "output_type": "stream",
          "text": [
            "Статистика по num_orders:\n",
            "count    4416.000000\n",
            "mean       84.422781\n",
            "std        45.023853\n",
            "min         0.000000\n",
            "25%        54.000000\n",
            "50%        78.000000\n",
            "75%       107.000000\n",
            "max       462.000000\n",
            "Name: num_orders, dtype: float64\n"
          ]
        }
      ],
      "source": [
        "feed_info(df_res,'num_orders','К-во заказов','К-во времянных рядов', 50)"
      ]
    },
    {
      "cell_type": "markdown",
      "id": "1ef583de",
      "metadata": {
        "id": "1ef583de"
      },
      "source": [
        "* Наиболее часто к-во заказов в диапазоне между 54 и 107 за час\n",
        "* Более 200 заказов за час можно считать аномальным количеством\n",
        "* Бывают времянные промежутки полного отсутствия заказов\n",
        "* Среднее значение заказов блико к медианному. Это говорит о том, что данные распределены относительно равномерно вокруг центра, и аномалии не оказывают существенного влияния\n",
        "* Внешний вид распределения напоминает гамма распределение"
      ]
    },
    {
      "cell_type": "markdown",
      "id": "9f7ff7c1",
      "metadata": {
        "id": "9f7ff7c1"
      },
      "source": [
        "### Тренд временного ряда"
      ]
    },
    {
      "cell_type": "markdown",
      "id": "e5bfea0f",
      "metadata": {
        "id": "e5bfea0f"
      },
      "source": [
        "Для дальнейшей работы подготовим переменную, которая будет содержать в себе тренд, сезонность и остаток временного ряда"
      ]
    },
    {
      "cell_type": "code",
      "execution_count": null,
      "id": "e1f68f00",
      "metadata": {
        "id": "e1f68f00"
      },
      "outputs": [],
      "source": [
        "df_dec = seasonal_decompose(df_res)"
      ]
    },
    {
      "cell_type": "markdown",
      "id": "36150bfa",
      "metadata": {
        "id": "36150bfa"
      },
      "source": [
        "**Тренд** (англ. trend) — плавное изменение среднего значения ряда без повторяющихся закономерностей. Например, ежегодное увеличение объёма продаж авиабилетов."
      ]
    },
    {
      "cell_type": "markdown",
      "id": "5771b5c0",
      "metadata": {
        "id": "5771b5c0"
      },
      "source": [
        "Подготовим функцию отображения шума временного ряда, с помощью которой мы получим график, показывающий случайные колебания в данных, не связанные с трендом или сезонностью."
      ]
    },
    {
      "cell_type": "code",
      "execution_count": null,
      "id": "9c1bd29d",
      "metadata": {
        "id": "9c1bd29d"
      },
      "outputs": [],
      "source": [
        "def trend_ts(df, title='Тренд времянного ряда', xlabel='Период', ylabel='Средний тренд'):\n",
        "    plt.figure(figsize=(16, 5))\n",
        "    df.trend.plot(linestyle='-', color='blue')\n",
        "    plt.title(title)\n",
        "    plt.xlabel(xlabel)\n",
        "    plt.ylabel(ylabel)\n",
        "    plt.grid(True)"
      ]
    },
    {
      "cell_type": "markdown",
      "id": "2c91db07",
      "metadata": {
        "id": "2c91db07"
      },
      "source": [
        "Ознакомимся с трендом за весь период"
      ]
    },
    {
      "cell_type": "code",
      "execution_count": null,
      "id": "efa135c9",
      "metadata": {
        "scrolled": true,
        "id": "efa135c9",
        "outputId": "e5102ffd-0ad1-4870-8bba-6a0d0089a617"
      },
      "outputs": [
        {
          "data": {
            "image/png": "[encoded data removed]",
            "text/plain": [
              "<Figure size 1152x360 with 1 Axes>"
            ]
          },
          "metadata": {
            "needs_background": "light"
          },
          "output_type": "display_data"
        }
      ],
      "source": [
        "trend_ts(df_dec, 'Тренд временного ряда заказов', '2018-03-01 - 2018-08-31', 'Среднее количество заказов')"
      ]
    },
    {
      "cell_type": "markdown",
      "id": "e31bd528",
      "metadata": {
        "id": "e31bd528"
      },
      "source": [
        "Количество заказов демонстрирует устойчивый рост с каждым месяцем. Однако, основываясь на данных только за текущий год, мы не можем с уверенностью утверждать, что эта тенденция обусловлена факторами времени года. Вполне вероятно, что наблюдаемый рост связан с растущей популярностью сервиса среди пользователей."
      ]
    },
    {
      "cell_type": "markdown",
      "id": "f854a4fb",
      "metadata": {
        "id": "f854a4fb"
      },
      "source": [
        "### Сезонность  временного ряда"
      ]
    },
    {
      "cell_type": "markdown",
      "id": "b222593f",
      "metadata": {
        "id": "b222593f"
      },
      "source": [
        "**Сезонность** (англ. seasonality) — циклично повторяющиеся закономерности во временном ряду. Допустим, рост продаж авиабилетов летом."
      ]
    },
    {
      "cell_type": "markdown",
      "id": "5861bb56",
      "metadata": {
        "id": "5861bb56"
      },
      "source": [
        "Теперь напишем функцию для получния графика, который показывает, как изменяется сезонность на протяжении всего периода."
      ]
    },
    {
      "cell_type": "code",
      "execution_count": null,
      "id": "fbb3e616",
      "metadata": {
        "id": "fbb3e616"
      },
      "outputs": [],
      "source": [
        "def season_ts(df, title='Сезонность времянного ряда', xlabel='Период', ylabel='Сезонность'):\n",
        "    plt.figure(figsize=(16, 5))\n",
        "    df.seasonal.plot(linestyle='-', color='blue')\n",
        "    plt.title(title)\n",
        "    plt.xlabel(xlabel)\n",
        "    plt.ylabel(ylabel)\n",
        "    plt.grid(True)"
      ]
    },
    {
      "cell_type": "code",
      "execution_count": null,
      "id": "c1063db7",
      "metadata": {
        "id": "c1063db7"
      },
      "outputs": [],
      "source": [
        "def season_ts_interval(df, left=None, right=None, title='Сезонность времянного ряда', xlabel='Период', ylabel='Сезонность'):\n",
        "    plt.figure(figsize=(16, 5))\n",
        "    df[left:right].plot(linestyle='-', color='blue')\n",
        "    plt.title(title)\n",
        "    plt.xlabel(xlabel)\n",
        "    plt.ylabel(ylabel)\n",
        "    plt.grid(True)"
      ]
    },
    {
      "cell_type": "markdown",
      "id": "3af125fc",
      "metadata": {
        "id": "3af125fc"
      },
      "source": [
        "Для начала ознакомимся с сезонностью за весь период"
      ]
    },
    {
      "cell_type": "code",
      "execution_count": null,
      "id": "b5f1b9ec",
      "metadata": {
        "scrolled": true,
        "id": "b5f1b9ec",
        "outputId": "22f5f7e7-3b55-4748-99ec-40da8781eb2b"
      },
      "outputs": [
        {
          "data": {
            "image/png": "[encoded data removed]",
            "text/plain": [
              "<Figure size 1152x360 with 1 Axes>"
            ]
          },
          "metadata": {
            "needs_background": "light"
          },
          "output_type": "display_data"
        }
      ],
      "source": [
        "season_ts(\n",
        "    df_dec,\n",
        "    xlabel='2018-03-01' + ' - ' + '2018-08-31'\n",
        ")"
      ]
    },
    {
      "cell_type": "markdown",
      "id": "fa82e7bf",
      "metadata": {
        "id": "fa82e7bf"
      },
      "source": [
        "Частота колебаний сезонности слишком велика для такого масштаба данных. Попробуем переид длительностью в две недели начиная с понедельника по воскресенье последних полных недель периода."
      ]
    },
    {
      "cell_type": "code",
      "execution_count": null,
      "id": "d4f97830",
      "metadata": {
        "scrolled": true,
        "id": "d4f97830",
        "outputId": "d2b00c8d-41f9-493c-8847-eea96ad12066"
      },
      "outputs": [
        {
          "data": {
            "image/png": "[encoded data removed]",
            "text/plain": [
              "<Figure size 1152x360 with 1 Axes>"
            ]
          },
          "metadata": {
            "needs_background": "light"
          },
          "output_type": "display_data"
        }
      ],
      "source": [
        "season_ts_interval(\n",
        "    df_dec.seasonal,\n",
        "    '2018-08-13',\n",
        "    '2018-08-26',\n",
        "    xlabel='2018-03-01' + ' - ' + '2018-08-31')"
      ]
    },
    {
      "cell_type": "markdown",
      "id": "19110cb3",
      "metadata": {
        "id": "19110cb3"
      },
      "source": [
        "По всей видимости сезонность связана с периодом длительностью один день. Недельной сезонности не наблюдается. Построим сезонность предпоследнего полного дня общего периода, а также захватим пару часов от соседних дней."
      ]
    },
    {
      "cell_type": "code",
      "execution_count": null,
      "id": "e4b603b7",
      "metadata": {
        "id": "e4b603b7",
        "outputId": "a1de0e99-b4b5-448e-ce68-01bd100e43b0"
      },
      "outputs": [
        {
          "data": {
            "image/png": "[encoded data removed]",
            "text/plain": [
              "<Figure size 1152x360 with 1 Axes>"
            ]
          },
          "metadata": {
            "needs_background": "light"
          },
          "output_type": "display_data"
        }
      ],
      "source": [
        "season_ts_interval(\n",
        "    df_dec.seasonal,\n",
        "    '2018-08-29 23:00:00',\n",
        "    '2018-08-31 01:01:01',\n",
        "    xlabel='2018-03-01' + ' - ' + '2018-08-31')"
      ]
    },
    {
      "cell_type": "markdown",
      "id": "a1acfb2f",
      "metadata": {
        "id": "a1acfb2f"
      },
      "source": [
        "Анализ сезонности заказов выявил четкие суточные ритмы\n",
        "\n",
        "**Пик активности наблюдается в ночное время, с 20:00 до 4:00.**\n",
        "Это говорит о том, что люди, вероятно, оформляют заказы после работы, отдыхают и возвращаются домой к утру\n",
        "\n",
        "Спад активности наблюдается в следующих временных интервалах:\n",
        "\n",
        "* **4:00 - 9:00**: Большинство людей в это время находятся дома и спят\n",
        "* **10:00 - 15:00**: Этот период может быть связан с работой, учебой или другими делами, которые не подразумевают перемещение на транспорте\n",
        "* **17:00 - 19:00**: Вероятнее всего, в этот период люди находятся в пути с работы домой или на других делах и пользуются личным и общественным транспортом\n",
        "\n",
        "**Пик активности в районе 16:00** требует дополнительного изучения. Возможно, он связан с определенными событиями или характерными для этой группы пользователей привычками"
      ]
    },
    {
      "cell_type": "markdown",
      "id": "b2ff4636",
      "metadata": {
        "id": "b2ff4636"
      },
      "source": [
        "### Остатки временного ряда"
      ]
    },
    {
      "cell_type": "markdown",
      "id": "c3f1b137",
      "metadata": {
        "id": "c3f1b137"
      },
      "source": [
        "**Остаток** (англ. residuals) — это компонента, которая не объясняется трендом и сезонностью, это шум."
      ]
    },
    {
      "cell_type": "markdown",
      "id": "5307a3eb",
      "metadata": {
        "id": "5307a3eb"
      },
      "source": [
        "Подготовим функцию отображения остатков времянного ряда, с помощью которой мы получаем график, который показывает, как изменялся средний уровень заказов на протяжении всего периода."
      ]
    },
    {
      "cell_type": "code",
      "execution_count": null,
      "id": "997aed77",
      "metadata": {
        "id": "997aed77"
      },
      "outputs": [],
      "source": [
        "def resid_ts(df, title='Шум временного ряда', xlabel='Период', ylabel='Остатки'):\n",
        "    plt.figure(figsize=(16, 5))\n",
        "    df.resid.plot(linestyle='-', color='blue')\n",
        "    plt.title(title)\n",
        "    plt.xlabel(xlabel)\n",
        "    plt.ylabel(ylabel)\n",
        "    plt.grid(True)"
      ]
    },
    {
      "cell_type": "code",
      "execution_count": null,
      "id": "2200ef5a",
      "metadata": {
        "id": "2200ef5a"
      },
      "outputs": [],
      "source": [
        "def resid_ts_interval(df, left=None, right=None, title='Шум временного ряда', xlabel='Период', ylabel='Остатки'):\n",
        "    plt.figure(figsize=(16, 5))\n",
        "    df[left:right].plot(linestyle='-', color='blue')\n",
        "    plt.title(title)\n",
        "    plt.xlabel(xlabel)\n",
        "    plt.ylabel(ylabel)\n",
        "    plt.grid(True)"
      ]
    },
    {
      "cell_type": "code",
      "execution_count": null,
      "id": "1452e49a",
      "metadata": {
        "scrolled": true,
        "id": "1452e49a",
        "outputId": "83f543c4-fdc8-4943-94c3-b877fab62d70"
      },
      "outputs": [
        {
          "data": {
            "image/png": "[encoded data removed]",
            "text/plain": [
              "<Figure size 1152x360 with 1 Axes>"
            ]
          },
          "metadata": {
            "needs_background": "light"
          },
          "output_type": "display_data"
        }
      ],
      "source": [
        "resid_ts(df_dec, 'Шум временного ряда заказов', '2018-03-01 - 2018-08-31', 'Остатки')"
      ]
    },
    {
      "cell_type": "markdown",
      "id": "c2fb87d1",
      "metadata": {
        "id": "c2fb87d1"
      },
      "source": [
        "* Частота колебания шума очень высокая, что свидетельствует о частых и быстрых изменениях в данных\n",
        "* Амплитуда колебаний относительно равномерна, что указывает на стабильность уровня шума\n",
        "\n",
        "Попробуем ознакомиться с более короткими временными диапазонами. Возьмем диапазон последних двух недель периода"
      ]
    },
    {
      "cell_type": "code",
      "execution_count": null,
      "id": "46abea84",
      "metadata": {
        "scrolled": false,
        "id": "46abea84",
        "outputId": "a20f59ef-f9aa-47d4-a156-98e3905946da"
      },
      "outputs": [
        {
          "data": {
            "image/png": "[encoded data removed]",
            "text/plain": [
              "<Figure size 1152x360 with 1 Axes>"
            ]
          },
          "metadata": {
            "needs_background": "light"
          },
          "output_type": "display_data"
        }
      ],
      "source": [
        "resid_ts_interval(\n",
        "    df_dec.resid,\n",
        "    '2018-08-13',\n",
        "    '2018-08-26',\n",
        "    xlabel='2018-03-01' + ' - ' + '2018-08-31')"
      ]
    },
    {
      "cell_type": "markdown",
      "id": "d796d02b",
      "metadata": {
        "id": "d796d02b"
      },
      "source": [
        "Каких-то новых наблюдений и закономерностей не наблюдается. Стало очевидно, что аплетуда калебания не стабильна, а частота колебаний высока"
      ]
    },
    {
      "cell_type": "code",
      "execution_count": null,
      "id": "316bd4a3",
      "metadata": {
        "id": "316bd4a3"
      },
      "outputs": [],
      "source": [
        "del df_dec"
      ]
    },
    {
      "cell_type": "markdown",
      "id": "f5ca47db",
      "metadata": {
        "id": "f5ca47db"
      },
      "source": [
        "### Стационарность временного ряда"
      ]
    },
    {
      "cell_type": "markdown",
      "id": "cfd02ea2",
      "metadata": {
        "id": "cfd02ea2"
      },
      "source": [
        "Проверим стационарность временного ряда, которая позволяет оценить прогнозируемость данных. Для этого нарисуем графики: **временного ряда, скользящего среднего и скользящего стандартного отклонения**. Если среднее и стандартное отклонение не будут меняться, тогда можно ряд будет стационарным. В противном случае придется производить преобразования над данными, а именно находить **разности временного ряда**, которая должна будт позволить получить более стационарный ряд"
      ]
    },
    {
      "cell_type": "code",
      "execution_count": null,
      "id": "545cdade",
      "metadata": {
        "scrolled": false,
        "id": "545cdade"
      },
      "outputs": [],
      "source": [
        "def stationarity(df, column, points=10):\n",
        "    plt.figure(figsize=(16, 6))\n",
        "    # График исходных данных\n",
        "    plt.plot(df.index, df[column], label='Исходные данные', color='blue')\n",
        "    # График скользящего среднего\n",
        "    plt.plot(df_res.index, df_res.rolling(points).mean(), label=f'Скользящее среднее ({points} точек)', color='red')\n",
        "    # График скользящего стандартного отклонения\n",
        "    plt.plot(df_res.index, df_res.rolling(points).std(), label=f'Скользящее стандартное отклонение ({points} точек)', color='green')\n",
        "\n",
        "    plt.xlabel('Дата')\n",
        "    plt.ylabel('Количество заказов')\n",
        "    plt.title('Исходные данные, скользящее среднее и стандартное отклонение')\n",
        "    plt.legend()\n",
        "\n",
        "    plt.show()"
      ]
    },
    {
      "cell_type": "code",
      "execution_count": null,
      "id": "f7d9933e",
      "metadata": {
        "id": "f7d9933e",
        "outputId": "1ebbd49c-cf51-468b-c0d5-014d1d000972"
      },
      "outputs": [
        {
          "data": {
            "image/png": "[encoded data removed]",
            "text/plain": [
              "<Figure size 1152x432 with 1 Axes>"
            ]
          },
          "metadata": {
            "needs_background": "light"
          },
          "output_type": "display_data"
        }
      ],
      "source": [
        "stationarity(df_res, 'num_orders', 24)"
      ]
    },
    {
      "cell_type": "markdown",
      "id": "538bec55",
      "metadata": {
        "id": "538bec55"
      },
      "source": [
        "Таким образом мы видим, что скользящее среднее подвержено измененям. Скользящее стандартное отклонение подвержено в меньшей степени. Построим временного ряда разности соседних элементов исходного ряда и проверим его стационарность"
      ]
    },
    {
      "cell_type": "code",
      "execution_count": null,
      "id": "de74d50e",
      "metadata": {
        "id": "de74d50e"
      },
      "outputs": [],
      "source": [
        "def_diff = df_res - df_res.shift(fill_value=0)"
      ]
    },
    {
      "cell_type": "code",
      "execution_count": null,
      "id": "a1cc95ef",
      "metadata": {
        "scrolled": false,
        "id": "a1cc95ef",
        "outputId": "911fdf1b-d64a-42d5-b296-cc0e77a747bc"
      },
      "outputs": [
        {
          "data": {
            "image/png": "[encoded data removed]",
            "text/plain": [
              "<Figure size 1152x432 with 1 Axes>"
            ]
          },
          "metadata": {
            "needs_background": "light"
          },
          "output_type": "display_data"
        }
      ],
      "source": [
        "stationarity(def_diff, 'num_orders', 24)"
      ]
    },
    {
      "cell_type": "markdown",
      "id": "6cf47eaa",
      "metadata": {
        "id": "6cf47eaa"
      },
      "source": [
        "Полученный ряд не является более стационарным, чем предыдущий. Тогда оставим исходный"
      ]
    },
    {
      "cell_type": "code",
      "execution_count": null,
      "id": "f9203968",
      "metadata": {
        "id": "f9203968"
      },
      "outputs": [],
      "source": [
        "del def_diff"
      ]
    },
    {
      "cell_type": "markdown",
      "id": "4435daf9",
      "metadata": {
        "id": "4435daf9"
      },
      "source": [
        "###  Вывод"
      ]
    },
    {
      "cell_type": "markdown",
      "id": "38ff8ef9",
      "metadata": {
        "id": "38ff8ef9"
      },
      "source": [
        "* В данных могут присутсвовать аномальное количество заказов, поэтому стоит обрать внимание на линейные модели с регуляризацией, а также не линейные модели\n",
        "* На протяжении всего времени присутсвует тренд на увеличение среднего количества заказов и нет оснований пологать, что он связан с временами года. Для того, чтобы акцентировать внимание модели на тренде следует всять среднее скользящее хотя бы длительностью в неделю\n",
        "* Наблюдается четкая сезонность в течении дня, ввиду этого при моделировании стоит обратить внимание на предыдущие значения в этот временной промежуток\n",
        "* Остатки не позволяют нам выявить закономерности\n",
        "* Cкользящее среднее подвержено измененям, cкользящее стандартное отклонение также подвержено изменением, из чего следует нестационарность ряда, что указивает на возможные трудности прогнозирования. Таким образом это говорит нам о том, что следует обратить внимание на нелинейные модели"
      ]
    },
    {
      "cell_type": "markdown",
      "id": "ec070ee4",
      "metadata": {
        "id": "ec070ee4"
      },
      "source": [
        "## Обучение моделей"
      ]
    },
    {
      "cell_type": "markdown",
      "id": "69a9a0df",
      "metadata": {
        "id": "69a9a0df"
      },
      "source": [
        "### Подготовка данных"
      ]
    },
    {
      "cell_type": "markdown",
      "id": "76b47a33",
      "metadata": {
        "id": "76b47a33"
      },
      "source": [
        "Подготовим функцию для получения признаков из исходных данных"
      ]
    },
    {
      "cell_type": "code",
      "execution_count": null,
      "id": "ab60fe92",
      "metadata": {
        "id": "ab60fe92"
      },
      "outputs": [],
      "source": [
        "def make_features(data=None, max_lag=1, rolling_mean_size=1):\n",
        "    data['year'] = data.index.year\n",
        "    data['hour'] = data.index.hour\n",
        "    data['dayofweek'] = data.index.dayofweek\n",
        "\n",
        "    for lag in range(1, max_lag + 1):\n",
        "        data['lag_{}'.format(lag)] = data['num_orders'].shift(lag)\n",
        "\n",
        "    data['rolling_mean'] = data['num_orders'].shift().rolling(rolling_mean_size).mean()\n",
        "    return data.dropna()"
      ]
    },
    {
      "cell_type": "markdown",
      "id": "165c44a3",
      "metadata": {
        "id": "165c44a3"
      },
      "source": [
        "Используем функцию получения признаков и создадим признаки 24 предыдущих часов, а также скользящее среднее последней недели"
      ]
    },
    {
      "cell_type": "code",
      "execution_count": null,
      "id": "4ee56321",
      "metadata": {
        "id": "4ee56321"
      },
      "outputs": [],
      "source": [
        "df = make_features(df_res, 168, 168)\n",
        "del df_res\n",
        "y = df['num_orders'].copy()\n",
        "X = df.drop(columns=['num_orders']).copy()\n",
        "num_columns = X.columns\n",
        "\n",
        "ohe_columns = ['hour', 'dayofweek']\n",
        "num_col_linal = num_columns.drop(['hour', 'dayofweek'])\n"
      ]
    },
    {
      "cell_type": "markdown",
      "id": "740354f5",
      "metadata": {
        "id": "740354f5"
      },
      "source": [
        "Установим случайное число"
      ]
    },
    {
      "cell_type": "code",
      "execution_count": null,
      "id": "59a3f4b8",
      "metadata": {
        "id": "59a3f4b8"
      },
      "outputs": [],
      "source": [
        "RANDOM_STATE = 42"
      ]
    },
    {
      "cell_type": "markdown",
      "id": "e312b6c3",
      "metadata": {
        "id": "e312b6c3"
      },
      "source": [
        "Разделим вуборки на тестовую и тренировочную"
      ]
    },
    {
      "cell_type": "code",
      "execution_count": null,
      "id": "7144a884",
      "metadata": {
        "scrolled": false,
        "id": "7144a884"
      },
      "outputs": [],
      "source": [
        "X_train, X_test, y_train, y_test = train_test_split(X,\n",
        "                                                    y,\n",
        "                                                    shuffle=False,\n",
        "                                                    test_size=0.1,\n",
        "                                                    random_state=RANDOM_STATE)"
      ]
    },
    {
      "cell_type": "markdown",
      "id": "90c68c19",
      "metadata": {
        "id": "90c68c19"
      },
      "source": [
        "### Подготовка кросс-валидации"
      ]
    },
    {
      "cell_type": "markdown",
      "id": "2350cefc",
      "metadata": {
        "id": "2350cefc"
      },
      "source": [
        "Подготовим пайплайны предобработки и моделирования"
      ]
    },
    {
      "cell_type": "code",
      "execution_count": null,
      "id": "662e798b",
      "metadata": {
        "id": "662e798b"
      },
      "outputs": [],
      "source": [
        "data_preprocessor = ColumnTransformer(\n",
        "    [\n",
        "        (\n",
        "            'num',\n",
        "            StandardScaler(), num_columns\n",
        "        )\n",
        "    ],\n",
        "    remainder='passthrough'\n",
        ")\n",
        "\n",
        "ohe_pipeline_linal = Pipeline(\n",
        "    [\n",
        "        (\n",
        "            'encoder',\n",
        "            OneHotEncoder(drop='first', handle_unknown='error', sparse_output=False)\n",
        "        )\n",
        "    ]\n",
        ")\n",
        "\n",
        "data_preprocessor_linal = ColumnTransformer(\n",
        "    [\n",
        "        (\n",
        "            'ohe',\n",
        "            ohe_pipeline_linal, ohe_columns\n",
        "        ),\n",
        "        (\n",
        "            'num',\n",
        "            StandardScaler(), num_col_linal\n",
        "        )\n",
        "    ],\n",
        "    remainder='passthrough'\n",
        ")\n",
        "\n",
        "pipe_final = Pipeline(\n",
        "    [\n",
        "        (\n",
        "            'preprocessor',\n",
        "            data_preprocessor\n",
        "        ),\n",
        "        (\n",
        "            'models',\n",
        "            DummyRegressor()\n",
        "        )\n",
        "    ]\n",
        ")"
      ]
    },
    {
      "cell_type": "markdown",
      "id": "501db20e",
      "metadata": {
        "id": "501db20e"
      },
      "source": [
        "Подготовим модели и список параметров"
      ]
    },
    {
      "cell_type": "code",
      "execution_count": null,
      "id": "b4bae78e",
      "metadata": {
        "id": "b4bae78e"
      },
      "outputs": [],
      "source": [
        "param_grid = [\n",
        "\n",
        "    {\n",
        "        'models': [DummyRegressor()],\n",
        "        'preprocessor':[data_preprocessor_linal]\n",
        "    },\n",
        "\n",
        "    {\n",
        "        'models': [Lasso()],\n",
        "        'models__max_iter': [RANDOM_STATE],\n",
        "        'models__max_iter': [1000],\n",
        "        'models__alpha':[1, 0.001],\n",
        "        'preprocessor':[data_preprocessor_linal]\n",
        "    },\n",
        "\n",
        "    {\n",
        "        'models': [Ridge()],\n",
        "        'models__max_iter': [RANDOM_STATE],\n",
        "        'models__max_iter': [1000],\n",
        "        'models__alpha':[1, 0.001],\n",
        "        'preprocessor':[data_preprocessor_linal]\n",
        "    },\n",
        "\n",
        "    {\n",
        "        'models': [SGDRegressor()],\n",
        "        'models__max_iter': [RANDOM_STATE],\n",
        "        'models__max_iter': [1000],\n",
        "        'preprocessor':[data_preprocessor_linal]\n",
        "    },\n",
        "\n",
        "    {\n",
        "        'models': [LGBMRegressor()],\n",
        "        'models__verbose': [-100],\n",
        "        'models__random_state': [RANDOM_STATE],\n",
        "        'models__n_jobs': [-1],\n",
        "        'models__boosting_type': ['gbdt', 'rf'],\n",
        "        'models__n_estimators': [100, 400],\n",
        "        'models__learning_rate': [0.01, 0.1]\n",
        "    },\n",
        "\n",
        "    {\n",
        "        'models': [CatBoostRegressor()],\n",
        "        'models__verbose': [False],\n",
        "        'models__random_state': [RANDOM_STATE],\n",
        "        'models__n_estimators': [500, 1000],\n",
        "        'models__learning_rate': [0.01, 0.1],\n",
        "        'models__boosting_type': ['ordered', 'plain']\n",
        "    }\n",
        "]"
      ]
    },
    {
      "cell_type": "markdown",
      "id": "5e530331",
      "metadata": {
        "id": "5e530331"
      },
      "source": [
        "Подготовим специальное разделение временных рядов"
      ]
    },
    {
      "cell_type": "code",
      "execution_count": null,
      "id": "07727c3f",
      "metadata": {
        "id": "07727c3f"
      },
      "outputs": [],
      "source": [
        "tscv = TimeSeriesSplit(n_splits=5)"
      ]
    },
    {
      "cell_type": "markdown",
      "id": "d5ff4d03",
      "metadata": {
        "id": "d5ff4d03"
      },
      "source": [
        "Подготовим переменную кросс-валидации"
      ]
    },
    {
      "cell_type": "code",
      "execution_count": null,
      "id": "610e2952",
      "metadata": {
        "id": "610e2952"
      },
      "outputs": [],
      "source": [
        "gs = GridSearchCV(\n",
        "    pipe_final,\n",
        "    param_grid=param_grid,\n",
        "    cv=tscv,\n",
        "    scoring='neg_root_mean_squared_error'\n",
        ")"
      ]
    },
    {
      "cell_type": "markdown",
      "id": "e31f96a6",
      "metadata": {
        "id": "e31f96a6"
      },
      "source": [
        "### Кросс-валидация и вывод лучших"
      ]
    },
    {
      "cell_type": "markdown",
      "id": "d9d577b8",
      "metadata": {
        "id": "d9d577b8"
      },
      "source": [
        "Запустим кросс-валидацию"
      ]
    },
    {
      "cell_type": "code",
      "execution_count": null,
      "id": "b7261764",
      "metadata": {
        "scrolled": true,
        "id": "b7261764",
        "outputId": "06e254ed-de8c-4824-9453-b660f3f8d38f"
      },
      "outputs": [
        {
          "name": "stderr",
          "output_type": "stream",
          "text": [
            "[LightGBM] [Fatal] Check failed: config->bagging_freq > 0 && config->bagging_fraction < 1.0f && config->bagging_fraction > 0.0f at /__w/1/s/python-package/compile/src/boosting/rf.hpp, line 35 .\n",
            "\n",
            "[LightGBM] [Fatal] Check failed: config->bagging_freq > 0 && config->bagging_fraction < 1.0f && config->bagging_fraction > 0.0f at /__w/1/s/python-package/compile/src/boosting/rf.hpp, line 35 .\n",
            "\n",
            "[LightGBM] [Fatal] Check failed: config->bagging_freq > 0 && config->bagging_fraction < 1.0f && config->bagging_fraction > 0.0f at /__w/1/s/python-package/compile/src/boosting/rf.hpp, line 35 .\n",
            "\n",
            "[LightGBM] [Fatal] Check failed: config->bagging_freq > 0 && config->bagging_fraction < 1.0f && config->bagging_fraction > 0.0f at /__w/1/s/python-package/compile/src/boosting/rf.hpp, line 35 .\n",
            "\n",
            "[LightGBM] [Fatal] Check failed: config->bagging_freq > 0 && config->bagging_fraction < 1.0f && config->bagging_fraction > 0.0f at /__w/1/s/python-package/compile/src/boosting/rf.hpp, line 35 .\n",
            "\n",
            "[LightGBM] [Fatal] Check failed: config->bagging_freq > 0 && config->bagging_fraction < 1.0f && config->bagging_fraction > 0.0f at /__w/1/s/python-package/compile/src/boosting/rf.hpp, line 35 .\n",
            "\n",
            "[LightGBM] [Fatal] Check failed: config->bagging_freq > 0 && config->bagging_fraction < 1.0f && config->bagging_fraction > 0.0f at /__w/1/s/python-package/compile/src/boosting/rf.hpp, line 35 .\n",
            "\n",
            "[LightGBM] [Fatal] Check failed: config->bagging_freq > 0 && config->bagging_fraction < 1.0f && config->bagging_fraction > 0.0f at /__w/1/s/python-package/compile/src/boosting/rf.hpp, line 35 .\n",
            "\n",
            "[LightGBM] [Fatal] Check failed: config->bagging_freq > 0 && config->bagging_fraction < 1.0f && config->bagging_fraction > 0.0f at /__w/1/s/python-package/compile/src/boosting/rf.hpp, line 35 .\n",
            "\n",
            "[LightGBM] [Fatal] Check failed: config->bagging_freq > 0 && config->bagging_fraction < 1.0f && config->bagging_fraction > 0.0f at /__w/1/s/python-package/compile/src/boosting/rf.hpp, line 35 .\n",
            "\n",
            "[LightGBM] [Fatal] Check failed: config->bagging_freq > 0 && config->bagging_fraction < 1.0f && config->bagging_fraction > 0.0f at /__w/1/s/python-package/compile/src/boosting/rf.hpp, line 35 .\n",
            "\n",
            "[LightGBM] [Fatal] Check failed: config->bagging_freq > 0 && config->bagging_fraction < 1.0f && config->bagging_fraction > 0.0f at /__w/1/s/python-package/compile/src/boosting/rf.hpp, line 35 .\n",
            "\n",
            "[LightGBM] [Fatal] Check failed: config->bagging_freq > 0 && config->bagging_fraction < 1.0f && config->bagging_fraction > 0.0f at /__w/1/s/python-package/compile/src/boosting/rf.hpp, line 35 .\n",
            "\n",
            "[LightGBM] [Fatal] Check failed: config->bagging_freq > 0 && config->bagging_fraction < 1.0f && config->bagging_fraction > 0.0f at /__w/1/s/python-package/compile/src/boosting/rf.hpp, line 35 .\n",
            "\n",
            "[LightGBM] [Fatal] Check failed: config->bagging_freq > 0 && config->bagging_fraction < 1.0f && config->bagging_fraction > 0.0f at /__w/1/s/python-package/compile/src/boosting/rf.hpp, line 35 .\n",
            "\n",
            "[LightGBM] [Fatal] Check failed: config->bagging_freq > 0 && config->bagging_fraction < 1.0f && config->bagging_fraction > 0.0f at /__w/1/s/python-package/compile/src/boosting/rf.hpp, line 35 .\n",
            "\n",
            "[LightGBM] [Fatal] Check failed: config->bagging_freq > 0 && config->bagging_fraction < 1.0f && config->bagging_fraction > 0.0f at /__w/1/s/python-package/compile/src/boosting/rf.hpp, line 35 .\n",
            "\n",
            "[LightGBM] [Fatal] Check failed: config->bagging_freq > 0 && config->bagging_fraction < 1.0f && config->bagging_fraction > 0.0f at /__w/1/s/python-package/compile/src/boosting/rf.hpp, line 35 .\n",
            "\n",
            "[LightGBM] [Fatal] Check failed: config->bagging_freq > 0 && config->bagging_fraction < 1.0f && config->bagging_fraction > 0.0f at /__w/1/s/python-package/compile/src/boosting/rf.hpp, line 35 .\n",
            "\n",
            "[LightGBM] [Fatal] Check failed: config->bagging_freq > 0 && config->bagging_fraction < 1.0f && config->bagging_fraction > 0.0f at /__w/1/s/python-package/compile/src/boosting/rf.hpp, line 35 .\n",
            "\n"
          ]
        }
      ],
      "source": [
        "gs.fit(X_train, y_train);"
      ]
    },
    {
      "cell_type": "code",
      "execution_count": null,
      "id": "5153d197",
      "metadata": {
        "scrolled": true,
        "id": "5153d197",
        "outputId": "057b34d7-114c-466f-886d-f5518453ec59"
      },
      "outputs": [
        {
          "name": "stdout",
          "output_type": "stream",
          "text": [
            "Рейтинг лучших моделей по производительности, а также среднее время обучения\n"
          ]
        },
        {
          "data": {
            "text/html": [
              "<div>\n",
              "<style scoped>\n",
              "    .dataframe tbody tr th:only-of-type {\n",
              "        vertical-align: middle;\n",
              "    }\n",
              "\n",
              "    .dataframe tbody tr th {\n",
              "        vertical-align: top;\n",
              "    }\n",
              "\n",
              "    .dataframe thead th {\n",
              "        text-align: right;\n",
              "    }\n",
              "</style>\n",
              "<table border=\"1\" class=\"dataframe\">\n",
              "  <thead>\n",
              "    <tr style=\"text-align: right;\">\n",
              "      <th></th>\n",
              "      <th>param_models</th>\n",
              "      <th>mean_test_score</th>\n",
              "      <th>mean_fit_time</th>\n",
              "      <th>mean_score_time</th>\n",
              "    </tr>\n",
              "  </thead>\n",
              "  <tbody>\n",
              "    <tr>\n",
              "      <th>1</th>\n",
              "      <td>Lasso()</td>\n",
              "      <td>-22.12</td>\n",
              "      <td>0.23</td>\n",
              "      <td>0.17</td>\n",
              "    </tr>\n",
              "    <tr>\n",
              "      <th>3</th>\n",
              "      <td>Ridge()</td>\n",
              "      <td>-22.76</td>\n",
              "      <td>0.23</td>\n",
              "      <td>0.14</td>\n",
              "    </tr>\n",
              "    <tr>\n",
              "      <th>5</th>\n",
              "      <td>SGDRegressor()</td>\n",
              "      <td>-22.85</td>\n",
              "      <td>0.16</td>\n",
              "      <td>0.06</td>\n",
              "    </tr>\n",
              "    <tr>\n",
              "      <th>7</th>\n",
              "      <td>LGBMRegressor()</td>\n",
              "      <td>-23.07</td>\n",
              "      <td>18.34</td>\n",
              "      <td>0.06</td>\n",
              "    </tr>\n",
              "    <tr>\n",
              "      <th>8</th>\n",
              "      <td>LGBMRegressor()</td>\n",
              "      <td>-23.18</td>\n",
              "      <td>4.45</td>\n",
              "      <td>0.01</td>\n",
              "    </tr>\n",
              "    <tr>\n",
              "      <th>2</th>\n",
              "      <td>Lasso()</td>\n",
              "      <td>-23.20</td>\n",
              "      <td>4.14</td>\n",
              "      <td>0.18</td>\n",
              "    </tr>\n",
              "    <tr>\n",
              "      <th>4</th>\n",
              "      <td>Ridge()</td>\n",
              "      <td>-23.29</td>\n",
              "      <td>0.22</td>\n",
              "      <td>0.18</td>\n",
              "    </tr>\n",
              "    <tr>\n",
              "      <th>9</th>\n",
              "      <td>LGBMRegressor()</td>\n",
              "      <td>-23.33</td>\n",
              "      <td>16.50</td>\n",
              "      <td>0.08</td>\n",
              "    </tr>\n",
              "    <tr>\n",
              "      <th>6</th>\n",
              "      <td>LGBMRegressor()</td>\n",
              "      <td>-27.24</td>\n",
              "      <td>6.74</td>\n",
              "      <td>0.02</td>\n",
              "    </tr>\n",
              "    <tr>\n",
              "      <th>0</th>\n",
              "      <td>DummyRegressor()</td>\n",
              "      <td>-40.68</td>\n",
              "      <td>0.02</td>\n",
              "      <td>0.01</td>\n",
              "    </tr>\n",
              "  </tbody>\n",
              "</table>\n",
              "</div>"
            ],
            "text/plain": [
              "       param_models  mean_test_score  mean_fit_time  mean_score_time\n",
              "1           Lasso()           -22.12           0.23             0.17\n",
              "3           Ridge()           -22.76           0.23             0.14\n",
              "5    SGDRegressor()           -22.85           0.16             0.06\n",
              "7   LGBMRegressor()           -23.07          18.34             0.06\n",
              "8   LGBMRegressor()           -23.18           4.45             0.01\n",
              "2           Lasso()           -23.20           4.14             0.18\n",
              "4           Ridge()           -23.29           0.22             0.18\n",
              "9   LGBMRegressor()           -23.33          16.50             0.08\n",
              "6   LGBMRegressor()           -27.24           6.74             0.02\n",
              "0  DummyRegressor()           -40.68           0.02             0.01"
            ]
          },
          "metadata": {},
          "output_type": "display_data"
        }
      ],
      "source": [
        "result = pd.DataFrame(gs.cv_results_)\n",
        "print('Рейтинг лучших моделей по производительности, а также среднее время обучения')\n",
        "display(result[\n",
        "    ['rank_test_score', 'param_models', 'mean_test_score', 'mean_fit_time', 'mean_score_time']\n",
        "].sort_values('rank_test_score')[['param_models', 'mean_test_score', 'mean_fit_time', 'mean_score_time']].round(2).head(10))"
      ]
    },
    {
      "cell_type": "markdown",
      "id": "11e4c631",
      "metadata": {
        "id": "11e4c631"
      },
      "source": [
        "Лучше всего с задачей справилась модель градиентного бустинга"
      ]
    },
    {
      "cell_type": "markdown",
      "id": "a6739298",
      "metadata": {
        "id": "a6739298"
      },
      "source": [
        "## Проверка модели на тестовой выборке"
      ]
    },
    {
      "cell_type": "markdown",
      "id": "3b4c9b8b",
      "metadata": {
        "id": "3b4c9b8b"
      },
      "source": [
        "Отобразим лучшие гиперпараметры"
      ]
    },
    {
      "cell_type": "code",
      "execution_count": null,
      "id": "e0efc30f",
      "metadata": {
        "scrolled": false,
        "id": "e0efc30f",
        "outputId": "3856d6da-245b-497c-9ca8-92150a01a67a"
      },
      "outputs": [
        {
          "data": {
            "text/plain": [
              "{'models': Lasso(),\n",
              " 'models__alpha': 1,\n",
              " 'models__max_iter': 1000,\n",
              " 'preprocessor': ColumnTransformer(remainder='passthrough',\n",
              "                   transformers=[('ohe',\n",
              "                                  Pipeline(steps=[('encoder',\n",
              "                                                   OneHotEncoder(drop='first',\n",
              "                                                                 sparse_output=False))]),\n",
              "                                  ['hour', 'dayofweek']),\n",
              "                                 ('num', StandardScaler(),\n",
              "                                  Index(['year', 'lag_1', 'lag_2', 'lag_3', 'lag_4', 'lag_5', 'lag_6', 'lag_7',\n",
              "        'lag_8', 'lag_9',\n",
              "        ...\n",
              "        'lag_160', 'lag_161', 'lag_162', 'lag_163', 'lag_164', 'lag_165',\n",
              "        'lag_166', 'lag_167', 'lag_168', 'rolling_mean'],\n",
              "       dtype='object', length=170))])}"
            ]
          },
          "execution_count": 42,
          "metadata": {},
          "output_type": "execute_result"
        }
      ],
      "source": [
        "gs.best_params_"
      ]
    },
    {
      "cell_type": "markdown",
      "id": "01df9d6e",
      "metadata": {
        "id": "01df9d6e"
      },
      "source": [
        "Проведем предстказания на тестовой выборке"
      ]
    },
    {
      "cell_type": "code",
      "execution_count": null,
      "id": "8359c097",
      "metadata": {
        "id": "8359c097"
      },
      "outputs": [],
      "source": [
        "y_pred_final = gs.best_estimator_.predict(X_test)"
      ]
    },
    {
      "cell_type": "markdown",
      "id": "b6f3f033",
      "metadata": {
        "id": "b6f3f033"
      },
      "source": [
        "Получим метрику качества RMSE работы модели на тествой выборке"
      ]
    },
    {
      "cell_type": "code",
      "execution_count": null,
      "id": "a325e840",
      "metadata": {
        "id": "a325e840",
        "outputId": "a1c5d402-d085-4262-c8e1-be240ecb2911"
      },
      "outputs": [
        {
          "name": "stdout",
          "output_type": "stream",
          "text": [
            "RMSE лучшей модели на тестовой выборке:\n"
          ]
        },
        {
          "data": {
            "text/plain": [
              "34.79166114110486"
            ]
          },
          "execution_count": 44,
          "metadata": {},
          "output_type": "execute_result"
        }
      ],
      "source": [
        "print(f'RMSE лучшей модели на тестовой выборке:')\n",
        "mean_squared_error(y_pred=y_pred_final, y_true=y_test, squared=False)"
      ]
    },
    {
      "cell_type": "code",
      "execution_count": null,
      "id": "49305b30",
      "metadata": {
        "scrolled": false,
        "id": "49305b30",
        "outputId": "836976b0-098c-49ad-83a9-01ebd0e35f12"
      },
      "outputs": [
        {
          "data": {
            "image/png": "[encoded data removed]",
            "text/plain": [
              "<Figure size 1152x432 with 1 Axes>"
            ]
          },
          "metadata": {
            "needs_background": "light"
          },
          "output_type": "display_data"
        }
      ],
      "source": [
        "y_pred_final = pd.Series(y_pred_final, index=y_test.index)\n",
        "\n",
        "plt.figure(figsize=(16, 6))\n",
        "plt.plot(y_pred_final.index, y_pred_final, 'b-', label='Предсказания')\n",
        "plt.plot(y_test.index, y_test, 'r-', label='Фактические значения')\n",
        "plt.legend()  # Добавьте легенду для удобства\n",
        "plt.show()"
      ]
    },
    {
      "cell_type": "markdown",
      "id": "17c749a8",
      "metadata": {
        "id": "17c749a8"
      },
      "source": [
        "## Вывод"
      ]
    },
    {
      "cell_type": "markdown",
      "id": "84bad78e",
      "metadata": {
        "id": "84bad78e"
      },
      "source": [
        "В ходе работы были мы выгрузили данные и подготовили их к анализу. Подготовка включала в себя проверку непрерывности и дубликатов, выявление выбросов и соответвие содержимого заданию и типам данных. Кроме того было проведено ресемплирование данных по часам.\n",
        "\n",
        "Далее был проведен анализ времянных рядов. В анализ входило изучение распределение времянного ряда, определение роли трендов, сезонности и остатков для задачи. Также была проведена проверка стационарности ряда. В ходе анализа была выявлена нестационарность и сезонность в течении дня. На основе анализа временного ряда были созданы признаки для дальнейшего моделирования.\n",
        "\n",
        "В конечном счете было проведено обучение моделей с целью предсказания временного ряда с наибольшей точностью. В ходе обучения моделей перебирались различные комбинации гиперпараметров. Модель с лучшими гиперпараметрами была проверена на тестовой выборке и выдала высокие показатели по требованиям заказчика."
      ]
    }
  ],
  "metadata": {
    "ExecuteTimeLog": [
      {
        "duration": 2618,
        "start_time": "2024-06-28T07:24:29.199Z"
      },
      {
        "duration": 1044,
        "start_time": "2024-06-28T07:24:31.819Z"
      },
      {
        "duration": 154,
        "start_time": "2024-06-28T07:24:32.864Z"
      },
      {
        "duration": 8,
        "start_time": "2024-06-28T07:25:08.519Z"
      },
      {
        "duration": 11,
        "start_time": "2024-06-28T07:25:28.468Z"
      },
      {
        "duration": 4,
        "start_time": "2024-06-28T07:35:29.973Z"
      },
      {
        "duration": 4,
        "start_time": "2024-06-28T07:35:39.034Z"
      },
      {
        "duration": 4,
        "start_time": "2024-06-28T07:35:44.073Z"
      },
      {
        "duration": 243,
        "start_time": "2024-06-28T07:57:42.447Z"
      },
      {
        "duration": 63,
        "start_time": "2024-06-28T07:58:01.342Z"
      },
      {
        "duration": 179,
        "start_time": "2024-06-28T07:58:07.373Z"
      },
      {
        "duration": 168,
        "start_time": "2024-06-28T07:58:37.431Z"
      },
      {
        "duration": 178,
        "start_time": "2024-06-28T07:58:42.274Z"
      },
      {
        "duration": 188,
        "start_time": "2024-06-28T07:58:46.958Z"
      },
      {
        "duration": 200,
        "start_time": "2024-06-28T07:58:52.052Z"
      },
      {
        "duration": 172,
        "start_time": "2024-06-28T07:59:27.663Z"
      },
      {
        "duration": 6,
        "start_time": "2024-06-28T08:03:14.258Z"
      },
      {
        "duration": 10,
        "start_time": "2024-06-28T08:03:18.611Z"
      },
      {
        "duration": 9,
        "start_time": "2024-06-28T08:03:29.135Z"
      },
      {
        "duration": 2,
        "start_time": "2024-06-28T09:00:27.181Z"
      },
      {
        "duration": 1040,
        "start_time": "2024-06-28T09:00:27.185Z"
      },
      {
        "duration": 41,
        "start_time": "2024-06-28T09:00:28.226Z"
      },
      {
        "duration": 8,
        "start_time": "2024-06-28T09:00:28.268Z"
      },
      {
        "duration": 51,
        "start_time": "2024-06-28T09:00:28.278Z"
      },
      {
        "duration": 40,
        "start_time": "2024-06-28T09:00:28.330Z"
      },
      {
        "duration": 325,
        "start_time": "2024-06-28T09:00:28.371Z"
      },
      {
        "duration": 10,
        "start_time": "2024-06-28T09:00:28.697Z"
      },
      {
        "duration": 4,
        "start_time": "2024-06-28T09:02:46.876Z"
      },
      {
        "duration": 206,
        "start_time": "2024-06-28T09:03:57.452Z"
      },
      {
        "duration": 7,
        "start_time": "2024-06-28T09:04:39.859Z"
      },
      {
        "duration": 4,
        "start_time": "2024-06-28T09:04:41.390Z"
      },
      {
        "duration": 306,
        "start_time": "2024-06-28T09:04:41.991Z"
      },
      {
        "duration": 176,
        "start_time": "2024-06-28T09:23:42.124Z"
      },
      {
        "duration": 3,
        "start_time": "2024-06-28T09:25:55.640Z"
      },
      {
        "duration": 909,
        "start_time": "2024-06-28T09:25:55.644Z"
      },
      {
        "duration": 42,
        "start_time": "2024-06-28T09:25:56.554Z"
      },
      {
        "duration": 9,
        "start_time": "2024-06-28T09:25:56.597Z"
      },
      {
        "duration": 8,
        "start_time": "2024-06-28T09:25:56.607Z"
      },
      {
        "duration": 9,
        "start_time": "2024-06-28T09:25:56.616Z"
      },
      {
        "duration": 246,
        "start_time": "2024-06-28T09:25:56.626Z"
      },
      {
        "duration": 18,
        "start_time": "2024-06-28T09:25:56.873Z"
      },
      {
        "duration": 5,
        "start_time": "2024-06-28T09:25:56.892Z"
      },
      {
        "duration": 364,
        "start_time": "2024-06-28T09:25:56.898Z"
      },
      {
        "duration": 24,
        "start_time": "2024-06-28T10:08:21.970Z"
      },
      {
        "duration": 86,
        "start_time": "2024-06-28T10:08:25.487Z"
      },
      {
        "duration": 677,
        "start_time": "2024-06-28T10:08:35.953Z"
      },
      {
        "duration": 62,
        "start_time": "2024-06-28T10:15:08.569Z"
      },
      {
        "duration": 3,
        "start_time": "2024-06-28T10:15:13.815Z"
      },
      {
        "duration": 2,
        "start_time": "2024-06-28T10:16:36.771Z"
      },
      {
        "duration": 210,
        "start_time": "2024-06-28T10:16:46.245Z"
      },
      {
        "duration": 3,
        "start_time": "2024-06-28T10:17:30.307Z"
      },
      {
        "duration": 173,
        "start_time": "2024-06-28T10:17:31.997Z"
      },
      {
        "duration": 2,
        "start_time": "2024-06-28T10:17:45.420Z"
      },
      {
        "duration": 160,
        "start_time": "2024-06-28T10:17:46.900Z"
      },
      {
        "duration": 3,
        "start_time": "2024-06-28T10:17:52.313Z"
      },
      {
        "duration": 137,
        "start_time": "2024-06-28T10:17:53.676Z"
      },
      {
        "duration": 3,
        "start_time": "2024-06-28T10:18:16.663Z"
      },
      {
        "duration": 181,
        "start_time": "2024-06-28T10:18:17.321Z"
      },
      {
        "duration": 3,
        "start_time": "2024-06-28T10:21:08.788Z"
      },
      {
        "duration": 191,
        "start_time": "2024-06-28T10:21:10.238Z"
      },
      {
        "duration": 6,
        "start_time": "2024-06-28T10:22:15.894Z"
      },
      {
        "duration": 3,
        "start_time": "2024-06-28T10:25:41.924Z"
      },
      {
        "duration": 256,
        "start_time": "2024-06-28T10:25:42.959Z"
      },
      {
        "duration": 3,
        "start_time": "2024-06-28T11:12:48.676Z"
      },
      {
        "duration": 185,
        "start_time": "2024-06-28T11:12:50.822Z"
      },
      {
        "duration": 44,
        "start_time": "2024-06-28T15:55:47.484Z"
      },
      {
        "duration": 4,
        "start_time": "2024-06-28T15:59:44.663Z"
      },
      {
        "duration": 3,
        "start_time": "2024-06-29T12:48:26.001Z"
      },
      {
        "duration": 1244,
        "start_time": "2024-06-29T12:48:26.006Z"
      },
      {
        "duration": 104,
        "start_time": "2024-06-29T12:48:27.252Z"
      },
      {
        "duration": 13,
        "start_time": "2024-06-29T12:48:27.358Z"
      },
      {
        "duration": 22,
        "start_time": "2024-06-29T12:48:27.373Z"
      },
      {
        "duration": 4,
        "start_time": "2024-06-29T12:48:27.397Z"
      },
      {
        "duration": 3,
        "start_time": "2024-06-29T12:49:17.886Z"
      },
      {
        "duration": 3,
        "start_time": "2024-06-29T12:49:27.834Z"
      },
      {
        "duration": 3,
        "start_time": "2024-06-29T12:58:17.261Z"
      },
      {
        "duration": 1106,
        "start_time": "2024-06-29T12:58:17.265Z"
      },
      {
        "duration": 46,
        "start_time": "2024-06-29T12:58:18.373Z"
      },
      {
        "duration": 9,
        "start_time": "2024-06-29T12:58:18.420Z"
      },
      {
        "duration": 11,
        "start_time": "2024-06-29T12:58:18.431Z"
      },
      {
        "duration": 4,
        "start_time": "2024-06-29T12:58:18.443Z"
      },
      {
        "duration": 6,
        "start_time": "2024-06-29T12:58:18.448Z"
      },
      {
        "duration": 304,
        "start_time": "2024-06-29T12:58:18.455Z"
      },
      {
        "duration": 11,
        "start_time": "2024-06-29T12:58:18.761Z"
      },
      {
        "duration": 3,
        "start_time": "2024-06-29T12:58:18.773Z"
      },
      {
        "duration": 5,
        "start_time": "2024-06-29T12:58:18.777Z"
      },
      {
        "duration": 389,
        "start_time": "2024-06-29T12:58:18.783Z"
      },
      {
        "duration": 3,
        "start_time": "2024-06-29T12:58:19.173Z"
      },
      {
        "duration": 258,
        "start_time": "2024-06-29T12:58:19.179Z"
      },
      {
        "duration": 3,
        "start_time": "2024-06-29T12:58:19.439Z"
      },
      {
        "duration": 106,
        "start_time": "2024-06-29T12:58:19.443Z"
      },
      {
        "duration": 0,
        "start_time": "2024-06-29T12:58:19.551Z"
      },
      {
        "duration": 3,
        "start_time": "2024-06-29T13:01:17.572Z"
      },
      {
        "duration": 274,
        "start_time": "2024-06-29T13:01:20.878Z"
      },
      {
        "duration": 1553,
        "start_time": "2024-06-29T13:05:53.499Z"
      },
      {
        "duration": 1263,
        "start_time": "2024-06-29T13:06:24.854Z"
      },
      {
        "duration": 10,
        "start_time": "2024-06-29T13:08:48.577Z"
      },
      {
        "duration": 1496,
        "start_time": "2024-06-29T13:10:20.490Z"
      },
      {
        "duration": 8,
        "start_time": "2024-06-29T13:11:30.554Z"
      },
      {
        "duration": 11,
        "start_time": "2024-06-29T13:12:16.725Z"
      },
      {
        "duration": 4,
        "start_time": "2024-06-29T13:13:29.030Z"
      },
      {
        "duration": 10,
        "start_time": "2024-06-29T13:13:37.523Z"
      },
      {
        "duration": 4,
        "start_time": "2024-06-29T13:13:43.909Z"
      },
      {
        "duration": 9,
        "start_time": "2024-06-29T13:13:46.325Z"
      },
      {
        "duration": 9,
        "start_time": "2024-06-29T13:14:07.339Z"
      },
      {
        "duration": 1146,
        "start_time": "2024-06-29T13:14:15.795Z"
      },
      {
        "duration": 3,
        "start_time": "2024-06-29T13:15:42.356Z"
      },
      {
        "duration": 13,
        "start_time": "2024-06-29T13:15:43.335Z"
      },
      {
        "duration": 2,
        "start_time": "2024-06-29T13:15:48.594Z"
      },
      {
        "duration": 3,
        "start_time": "2024-06-29T13:15:50.593Z"
      },
      {
        "duration": 3,
        "start_time": "2024-06-29T13:15:52.437Z"
      },
      {
        "duration": 2,
        "start_time": "2024-06-29T13:15:54.569Z"
      },
      {
        "duration": 2,
        "start_time": "2024-06-29T13:15:58.780Z"
      },
      {
        "duration": 3,
        "start_time": "2024-06-29T13:16:01.272Z"
      },
      {
        "duration": 2,
        "start_time": "2024-06-29T13:20:41.496Z"
      },
      {
        "duration": 1183,
        "start_time": "2024-06-29T13:23:54.772Z"
      },
      {
        "duration": 1308,
        "start_time": "2024-06-29T13:25:51.503Z"
      },
      {
        "duration": 9,
        "start_time": "2024-06-29T13:58:04.758Z"
      },
      {
        "duration": 11,
        "start_time": "2024-06-29T14:05:59.879Z"
      },
      {
        "duration": 11,
        "start_time": "2024-06-29T14:06:16.649Z"
      },
      {
        "duration": 3,
        "start_time": "2024-06-29T14:06:52.270Z"
      },
      {
        "duration": 11,
        "start_time": "2024-06-29T14:06:52.274Z"
      },
      {
        "duration": 47,
        "start_time": "2024-06-29T14:06:52.286Z"
      },
      {
        "duration": 7,
        "start_time": "2024-06-29T14:06:52.334Z"
      },
      {
        "duration": 16,
        "start_time": "2024-06-29T14:06:52.343Z"
      },
      {
        "duration": 8,
        "start_time": "2024-06-29T14:06:52.360Z"
      },
      {
        "duration": 5,
        "start_time": "2024-06-29T14:06:52.369Z"
      },
      {
        "duration": 221,
        "start_time": "2024-06-29T14:06:52.376Z"
      },
      {
        "duration": 11,
        "start_time": "2024-06-29T14:06:52.599Z"
      },
      {
        "duration": 2,
        "start_time": "2024-06-29T14:06:52.612Z"
      },
      {
        "duration": 7,
        "start_time": "2024-06-29T14:06:52.616Z"
      },
      {
        "duration": 4,
        "start_time": "2024-06-29T14:06:52.625Z"
      },
      {
        "duration": 364,
        "start_time": "2024-06-29T14:06:52.630Z"
      },
      {
        "duration": 3,
        "start_time": "2024-06-29T14:06:52.996Z"
      },
      {
        "duration": 27,
        "start_time": "2024-06-29T14:06:53.001Z"
      },
      {
        "duration": 11993,
        "start_time": "2024-06-29T14:06:54.611Z"
      },
      {
        "duration": 3,
        "start_time": "2024-06-29T14:09:25.985Z"
      },
      {
        "duration": 1121,
        "start_time": "2024-06-29T14:09:25.989Z"
      },
      {
        "duration": 54,
        "start_time": "2024-06-29T14:09:27.111Z"
      },
      {
        "duration": 11,
        "start_time": "2024-06-29T14:09:27.166Z"
      },
      {
        "duration": 13,
        "start_time": "2024-06-29T14:09:27.179Z"
      },
      {
        "duration": 5,
        "start_time": "2024-06-29T14:09:27.194Z"
      },
      {
        "duration": 4,
        "start_time": "2024-06-29T14:09:27.200Z"
      },
      {
        "duration": 312,
        "start_time": "2024-06-29T14:09:27.205Z"
      },
      {
        "duration": 11,
        "start_time": "2024-06-29T14:09:27.518Z"
      },
      {
        "duration": 3,
        "start_time": "2024-06-29T14:09:27.530Z"
      },
      {
        "duration": 8,
        "start_time": "2024-06-29T14:09:27.534Z"
      },
      {
        "duration": 5,
        "start_time": "2024-06-29T14:09:27.543Z"
      },
      {
        "duration": 401,
        "start_time": "2024-06-29T14:09:27.549Z"
      },
      {
        "duration": 3,
        "start_time": "2024-06-29T14:09:27.952Z"
      },
      {
        "duration": 118,
        "start_time": "2024-06-29T14:09:27.957Z"
      },
      {
        "duration": 4,
        "start_time": "2024-06-29T14:09:29.207Z"
      },
      {
        "duration": 19,
        "start_time": "2024-06-29T14:09:31.269Z"
      },
      {
        "duration": 243,
        "start_time": "2024-06-29T14:10:03.527Z"
      },
      {
        "duration": 10,
        "start_time": "2024-06-29T14:10:14.291Z"
      },
      {
        "duration": 3,
        "start_time": "2024-06-29T14:10:16.340Z"
      },
      {
        "duration": 10,
        "start_time": "2024-06-29T14:10:17.507Z"
      },
      {
        "duration": 1519,
        "start_time": "2024-06-29T14:10:46.163Z"
      },
      {
        "duration": 8,
        "start_time": "2024-06-29T14:11:17.584Z"
      },
      {
        "duration": 10,
        "start_time": "2024-06-29T14:11:24.124Z"
      },
      {
        "duration": 3,
        "start_time": "2024-06-29T14:12:30.179Z"
      },
      {
        "duration": 13,
        "start_time": "2024-06-29T14:12:40.710Z"
      },
      {
        "duration": 990,
        "start_time": "2024-06-29T14:12:43.946Z"
      },
      {
        "duration": 974,
        "start_time": "2024-06-29T14:13:18.053Z"
      },
      {
        "duration": 5,
        "start_time": "2024-06-29T15:13:04.918Z"
      },
      {
        "duration": 10,
        "start_time": "2024-06-29T15:13:17.332Z"
      },
      {
        "duration": 5,
        "start_time": "2024-06-29T15:14:53.769Z"
      },
      {
        "duration": 16,
        "start_time": "2024-06-29T15:15:55.293Z"
      },
      {
        "duration": 319,
        "start_time": "2024-06-29T15:16:01.600Z"
      },
      {
        "duration": 234,
        "start_time": "2024-06-29T15:17:54.553Z"
      },
      {
        "duration": 236,
        "start_time": "2024-06-29T15:19:36.347Z"
      },
      {
        "duration": 3,
        "start_time": "2024-06-29T15:19:56.836Z"
      },
      {
        "duration": 1142,
        "start_time": "2024-06-29T15:19:56.840Z"
      },
      {
        "duration": 53,
        "start_time": "2024-06-29T15:19:57.984Z"
      },
      {
        "duration": 10,
        "start_time": "2024-06-29T15:19:58.038Z"
      },
      {
        "duration": 16,
        "start_time": "2024-06-29T15:19:58.050Z"
      },
      {
        "duration": 4,
        "start_time": "2024-06-29T15:19:58.067Z"
      },
      {
        "duration": 4,
        "start_time": "2024-06-29T15:19:58.072Z"
      },
      {
        "duration": 290,
        "start_time": "2024-06-29T15:19:58.077Z"
      },
      {
        "duration": 12,
        "start_time": "2024-06-29T15:19:58.368Z"
      },
      {
        "duration": 4,
        "start_time": "2024-06-29T15:19:58.381Z"
      },
      {
        "duration": 13,
        "start_time": "2024-06-29T15:19:58.386Z"
      },
      {
        "duration": 4,
        "start_time": "2024-06-29T15:19:58.401Z"
      },
      {
        "duration": 367,
        "start_time": "2024-06-29T15:19:58.406Z"
      },
      {
        "duration": 3,
        "start_time": "2024-06-29T15:19:58.776Z"
      },
      {
        "duration": 275,
        "start_time": "2024-06-29T15:19:58.780Z"
      },
      {
        "duration": 4,
        "start_time": "2024-06-29T15:19:59.056Z"
      },
      {
        "duration": 3,
        "start_time": "2024-06-29T15:19:59.065Z"
      },
      {
        "duration": 232,
        "start_time": "2024-06-29T15:20:08.338Z"
      },
      {
        "duration": 340,
        "start_time": "2024-06-29T15:20:16.456Z"
      },
      {
        "duration": 211,
        "start_time": "2024-06-29T15:25:31.681Z"
      },
      {
        "duration": 165,
        "start_time": "2024-06-29T15:28:01.386Z"
      },
      {
        "duration": 175,
        "start_time": "2024-06-29T15:28:19.577Z"
      },
      {
        "duration": 164,
        "start_time": "2024-06-29T15:28:31.193Z"
      },
      {
        "duration": 162,
        "start_time": "2024-06-29T15:28:36.996Z"
      },
      {
        "duration": 153,
        "start_time": "2024-06-29T15:28:42.635Z"
      },
      {
        "duration": 239,
        "start_time": "2024-06-29T15:31:30.628Z"
      },
      {
        "duration": 181,
        "start_time": "2024-06-29T15:31:45.253Z"
      },
      {
        "duration": 152,
        "start_time": "2024-06-29T15:32:04.472Z"
      },
      {
        "duration": 163,
        "start_time": "2024-06-29T15:34:25.669Z"
      },
      {
        "duration": 179,
        "start_time": "2024-06-29T15:35:39.475Z"
      },
      {
        "duration": 6,
        "start_time": "2024-06-29T16:29:44.266Z"
      },
      {
        "duration": 107,
        "start_time": "2024-06-29T16:29:45.311Z"
      },
      {
        "duration": 4,
        "start_time": "2024-06-29T16:30:15.408Z"
      },
      {
        "duration": 369,
        "start_time": "2024-06-29T16:30:16.220Z"
      },
      {
        "duration": 4,
        "start_time": "2024-06-29T16:44:53.520Z"
      },
      {
        "duration": 172,
        "start_time": "2024-06-29T16:45:10.761Z"
      },
      {
        "duration": 3,
        "start_time": "2024-06-29T16:49:04.322Z"
      },
      {
        "duration": 3,
        "start_time": "2024-06-29T16:50:44.123Z"
      },
      {
        "duration": 1066,
        "start_time": "2024-06-29T16:50:44.128Z"
      },
      {
        "duration": 46,
        "start_time": "2024-06-29T16:50:45.197Z"
      },
      {
        "duration": 9,
        "start_time": "2024-06-29T16:50:45.245Z"
      },
      {
        "duration": 52,
        "start_time": "2024-06-29T16:50:45.255Z"
      },
      {
        "duration": 4,
        "start_time": "2024-06-29T16:50:45.309Z"
      },
      {
        "duration": 6,
        "start_time": "2024-06-29T16:50:45.314Z"
      },
      {
        "duration": 303,
        "start_time": "2024-06-29T16:50:45.321Z"
      },
      {
        "duration": 12,
        "start_time": "2024-06-29T16:50:45.625Z"
      },
      {
        "duration": 2,
        "start_time": "2024-06-29T16:50:45.638Z"
      },
      {
        "duration": 11,
        "start_time": "2024-06-29T16:50:45.641Z"
      },
      {
        "duration": 339,
        "start_time": "2024-06-29T16:50:45.653Z"
      },
      {
        "duration": 6,
        "start_time": "2024-06-29T16:50:45.994Z"
      },
      {
        "duration": 31,
        "start_time": "2024-06-29T16:50:46.001Z"
      },
      {
        "duration": 227,
        "start_time": "2024-06-29T16:50:46.034Z"
      },
      {
        "duration": 4,
        "start_time": "2024-06-29T16:50:46.262Z"
      },
      {
        "duration": 6,
        "start_time": "2024-06-29T16:50:46.267Z"
      },
      {
        "duration": 265,
        "start_time": "2024-06-29T16:50:46.275Z"
      },
      {
        "duration": 194,
        "start_time": "2024-06-29T16:50:46.541Z"
      },
      {
        "duration": 253,
        "start_time": "2024-06-29T16:50:46.736Z"
      },
      {
        "duration": 5,
        "start_time": "2024-06-29T16:50:46.991Z"
      },
      {
        "duration": 4,
        "start_time": "2024-06-29T16:50:46.997Z"
      },
      {
        "duration": 249,
        "start_time": "2024-06-29T16:50:47.003Z"
      },
      {
        "duration": 183,
        "start_time": "2024-06-29T16:50:47.253Z"
      },
      {
        "duration": 2,
        "start_time": "2024-06-29T16:50:47.438Z"
      },
      {
        "duration": 5,
        "start_time": "2024-06-29T18:54:56.784Z"
      },
      {
        "duration": 1110,
        "start_time": "2024-06-29T18:54:56.792Z"
      },
      {
        "duration": 59,
        "start_time": "2024-06-29T18:54:57.904Z"
      },
      {
        "duration": 10,
        "start_time": "2024-06-29T18:54:57.964Z"
      },
      {
        "duration": 24,
        "start_time": "2024-06-29T18:54:57.977Z"
      },
      {
        "duration": 5,
        "start_time": "2024-06-29T18:54:58.005Z"
      },
      {
        "duration": 3,
        "start_time": "2024-06-29T18:54:58.012Z"
      },
      {
        "duration": 348,
        "start_time": "2024-06-29T18:54:58.016Z"
      },
      {
        "duration": 19,
        "start_time": "2024-06-29T18:54:58.366Z"
      },
      {
        "duration": 3,
        "start_time": "2024-06-29T18:54:58.386Z"
      },
      {
        "duration": 36,
        "start_time": "2024-06-29T18:54:58.390Z"
      },
      {
        "duration": 360,
        "start_time": "2024-06-29T18:54:58.428Z"
      },
      {
        "duration": 8,
        "start_time": "2024-06-29T18:54:58.792Z"
      },
      {
        "duration": 3,
        "start_time": "2024-06-29T18:54:58.801Z"
      },
      {
        "duration": 315,
        "start_time": "2024-06-29T18:54:58.806Z"
      },
      {
        "duration": 3,
        "start_time": "2024-06-29T18:54:59.123Z"
      },
      {
        "duration": 6,
        "start_time": "2024-06-29T18:54:59.127Z"
      },
      {
        "duration": 278,
        "start_time": "2024-06-29T18:54:59.134Z"
      },
      {
        "duration": 212,
        "start_time": "2024-06-29T18:54:59.414Z"
      },
      {
        "duration": 275,
        "start_time": "2024-06-29T18:54:59.627Z"
      },
      {
        "duration": 4,
        "start_time": "2024-06-29T18:54:59.903Z"
      },
      {
        "duration": 5,
        "start_time": "2024-06-29T18:54:59.908Z"
      },
      {
        "duration": 241,
        "start_time": "2024-06-29T18:54:59.915Z"
      },
      {
        "duration": 200,
        "start_time": "2024-06-29T18:55:00.157Z"
      },
      {
        "duration": 3,
        "start_time": "2024-06-29T18:55:00.364Z"
      },
      {
        "duration": 9,
        "start_time": "2024-06-29T18:55:03.618Z"
      },
      {
        "duration": 200,
        "start_time": "2024-06-29T18:56:06.589Z"
      },
      {
        "duration": 253,
        "start_time": "2024-06-29T18:56:19.259Z"
      },
      {
        "duration": 111,
        "start_time": "2024-06-29T18:56:43.537Z"
      },
      {
        "duration": 204,
        "start_time": "2024-06-29T18:56:50.508Z"
      },
      {
        "duration": 133,
        "start_time": "2024-06-29T18:58:35.353Z"
      },
      {
        "duration": 196,
        "start_time": "2024-06-29T18:59:27.687Z"
      },
      {
        "duration": 171,
        "start_time": "2024-06-29T19:01:23.747Z"
      },
      {
        "duration": 150,
        "start_time": "2024-06-29T19:08:41.166Z"
      },
      {
        "duration": 232,
        "start_time": "2024-06-29T19:12:16.187Z"
      },
      {
        "duration": 260,
        "start_time": "2024-06-29T19:13:07.042Z"
      },
      {
        "duration": 242,
        "start_time": "2024-06-29T19:13:14.329Z"
      },
      {
        "duration": 244,
        "start_time": "2024-06-29T19:13:43.244Z"
      },
      {
        "duration": 240,
        "start_time": "2024-06-29T19:13:59.104Z"
      },
      {
        "duration": 274,
        "start_time": "2024-06-29T19:17:49.532Z"
      },
      {
        "duration": 6,
        "start_time": "2024-06-29T19:21:32.007Z"
      },
      {
        "duration": 240,
        "start_time": "2024-06-29T19:21:57.007Z"
      },
      {
        "duration": 4,
        "start_time": "2024-06-29T19:23:10.358Z"
      },
      {
        "duration": 269,
        "start_time": "2024-06-29T19:23:18.727Z"
      },
      {
        "duration": 4,
        "start_time": "2024-06-29T19:23:37.488Z"
      },
      {
        "duration": 283,
        "start_time": "2024-06-29T19:23:38.818Z"
      },
      {
        "duration": 239,
        "start_time": "2024-06-29T19:23:48.430Z"
      },
      {
        "duration": 342,
        "start_time": "2024-06-29T19:24:07.368Z"
      },
      {
        "duration": 228,
        "start_time": "2024-06-29T19:24:21.208Z"
      },
      {
        "duration": 243,
        "start_time": "2024-06-29T19:24:32.113Z"
      },
      {
        "duration": 78,
        "start_time": "2024-06-29T19:25:29.978Z"
      },
      {
        "duration": 4,
        "start_time": "2024-06-29T19:25:38.662Z"
      },
      {
        "duration": 1142,
        "start_time": "2024-06-29T19:25:38.668Z"
      },
      {
        "duration": 60,
        "start_time": "2024-06-29T19:25:39.814Z"
      },
      {
        "duration": 12,
        "start_time": "2024-06-29T19:25:39.877Z"
      },
      {
        "duration": 14,
        "start_time": "2024-06-29T19:25:39.891Z"
      },
      {
        "duration": 6,
        "start_time": "2024-06-29T19:25:39.907Z"
      },
      {
        "duration": 5,
        "start_time": "2024-06-29T19:25:39.915Z"
      },
      {
        "duration": 370,
        "start_time": "2024-06-29T19:25:39.922Z"
      },
      {
        "duration": 16,
        "start_time": "2024-06-29T19:25:40.294Z"
      },
      {
        "duration": 19,
        "start_time": "2024-06-29T19:25:40.311Z"
      },
      {
        "duration": 10,
        "start_time": "2024-06-29T19:25:40.332Z"
      },
      {
        "duration": 343,
        "start_time": "2024-06-29T19:25:40.344Z"
      },
      {
        "duration": 8,
        "start_time": "2024-06-29T19:25:40.690Z"
      },
      {
        "duration": 39,
        "start_time": "2024-06-29T19:25:40.699Z"
      },
      {
        "duration": 297,
        "start_time": "2024-06-29T19:25:40.740Z"
      },
      {
        "duration": 3,
        "start_time": "2024-06-29T19:25:41.039Z"
      },
      {
        "duration": 28,
        "start_time": "2024-06-29T19:25:41.044Z"
      },
      {
        "duration": 302,
        "start_time": "2024-06-29T19:25:41.074Z"
      },
      {
        "duration": 199,
        "start_time": "2024-06-29T19:25:41.380Z"
      },
      {
        "duration": 297,
        "start_time": "2024-06-29T19:25:41.580Z"
      },
      {
        "duration": 4,
        "start_time": "2024-06-29T19:25:41.879Z"
      },
      {
        "duration": 27,
        "start_time": "2024-06-29T19:25:41.885Z"
      },
      {
        "duration": 273,
        "start_time": "2024-06-29T19:25:41.914Z"
      },
      {
        "duration": 205,
        "start_time": "2024-06-29T19:25:42.189Z"
      },
      {
        "duration": 3,
        "start_time": "2024-06-29T19:25:42.396Z"
      },
      {
        "duration": 16,
        "start_time": "2024-06-29T19:25:42.401Z"
      },
      {
        "duration": 273,
        "start_time": "2024-06-29T19:25:42.419Z"
      },
      {
        "duration": 4,
        "start_time": "2024-06-29T19:25:42.693Z"
      },
      {
        "duration": 273,
        "start_time": "2024-06-29T19:25:42.698Z"
      },
      {
        "duration": 79,
        "start_time": "2024-06-29T19:25:42.973Z"
      },
      {
        "duration": 65,
        "start_time": "2024-06-29T19:26:48.010Z"
      },
      {
        "duration": 3,
        "start_time": "2024-06-29T19:26:50.960Z"
      },
      {
        "duration": 8,
        "start_time": "2024-06-30T10:45:35.923Z"
      },
      {
        "duration": 39,
        "start_time": "2024-06-30T10:45:37.891Z"
      },
      {
        "duration": 1562,
        "start_time": "2024-06-30T13:37:59.377Z"
      },
      {
        "duration": 3,
        "start_time": "2024-06-30T13:43:48.048Z"
      },
      {
        "duration": 2637,
        "start_time": "2024-06-30T13:46:10.187Z"
      },
      {
        "duration": 1400,
        "start_time": "2024-06-30T13:46:12.826Z"
      },
      {
        "duration": 99,
        "start_time": "2024-06-30T13:46:14.228Z"
      },
      {
        "duration": 10,
        "start_time": "2024-06-30T13:46:14.329Z"
      },
      {
        "duration": 10,
        "start_time": "2024-06-30T13:46:14.340Z"
      },
      {
        "duration": 4,
        "start_time": "2024-06-30T13:46:14.351Z"
      },
      {
        "duration": 4,
        "start_time": "2024-06-30T13:46:14.356Z"
      },
      {
        "duration": 307,
        "start_time": "2024-06-30T13:46:14.361Z"
      },
      {
        "duration": 11,
        "start_time": "2024-06-30T13:46:14.670Z"
      },
      {
        "duration": 21,
        "start_time": "2024-06-30T13:46:14.684Z"
      },
      {
        "duration": 4,
        "start_time": "2024-06-30T13:46:14.707Z"
      },
      {
        "duration": 361,
        "start_time": "2024-06-30T13:46:14.712Z"
      },
      {
        "duration": 7,
        "start_time": "2024-06-30T13:46:15.075Z"
      },
      {
        "duration": 47,
        "start_time": "2024-06-30T13:46:15.084Z"
      },
      {
        "duration": 270,
        "start_time": "2024-06-30T13:46:15.132Z"
      },
      {
        "duration": 4,
        "start_time": "2024-06-30T13:46:15.404Z"
      },
      {
        "duration": 10,
        "start_time": "2024-06-30T13:46:15.410Z"
      },
      {
        "duration": 401,
        "start_time": "2024-06-30T13:46:15.422Z"
      },
      {
        "duration": 203,
        "start_time": "2024-06-30T13:46:15.824Z"
      },
      {
        "duration": 195,
        "start_time": "2024-06-30T13:46:16.029Z"
      },
      {
        "duration": 4,
        "start_time": "2024-06-30T13:46:16.226Z"
      },
      {
        "duration": 23,
        "start_time": "2024-06-30T13:46:16.237Z"
      },
      {
        "duration": 264,
        "start_time": "2024-06-30T13:46:16.262Z"
      },
      {
        "duration": 225,
        "start_time": "2024-06-30T13:46:16.527Z"
      },
      {
        "duration": 3,
        "start_time": "2024-06-30T13:46:16.753Z"
      },
      {
        "duration": 164,
        "start_time": "2024-06-30T13:46:16.757Z"
      },
      {
        "duration": 322,
        "start_time": "2024-06-30T13:46:16.923Z"
      },
      {
        "duration": 4,
        "start_time": "2024-06-30T13:46:17.253Z"
      },
      {
        "duration": 347,
        "start_time": "2024-06-30T13:46:17.259Z"
      },
      {
        "duration": 2,
        "start_time": "2024-06-30T13:46:17.608Z"
      },
      {
        "duration": 34,
        "start_time": "2024-06-30T13:46:17.611Z"
      },
      {
        "duration": 21,
        "start_time": "2024-06-30T13:46:17.647Z"
      },
      {
        "duration": 52,
        "start_time": "2024-06-30T13:46:17.669Z"
      },
      {
        "duration": 164,
        "start_time": "2024-06-30T13:46:17.723Z"
      },
      {
        "duration": 0,
        "start_time": "2024-06-30T13:46:17.889Z"
      },
      {
        "duration": 5,
        "start_time": "2024-06-30T13:48:42.484Z"
      },
      {
        "duration": 11,
        "start_time": "2024-06-30T14:14:57.151Z"
      },
      {
        "duration": 2287,
        "start_time": "2024-06-30T14:20:39.639Z"
      },
      {
        "duration": 1355,
        "start_time": "2024-06-30T14:20:41.929Z"
      },
      {
        "duration": 48,
        "start_time": "2024-06-30T14:20:43.285Z"
      },
      {
        "duration": 9,
        "start_time": "2024-06-30T14:20:43.335Z"
      },
      {
        "duration": 8,
        "start_time": "2024-06-30T14:20:43.346Z"
      },
      {
        "duration": 8,
        "start_time": "2024-06-30T14:20:43.355Z"
      },
      {
        "duration": 5,
        "start_time": "2024-06-30T14:20:43.364Z"
      },
      {
        "duration": 299,
        "start_time": "2024-06-30T14:20:43.370Z"
      },
      {
        "duration": 11,
        "start_time": "2024-06-30T14:20:43.671Z"
      },
      {
        "duration": 3,
        "start_time": "2024-06-30T14:20:43.683Z"
      },
      {
        "duration": 9,
        "start_time": "2024-06-30T14:20:43.687Z"
      },
      {
        "duration": 356,
        "start_time": "2024-06-30T14:20:43.697Z"
      },
      {
        "duration": 7,
        "start_time": "2024-06-30T14:20:44.054Z"
      },
      {
        "duration": 3,
        "start_time": "2024-06-30T14:20:44.064Z"
      },
      {
        "duration": 256,
        "start_time": "2024-06-30T14:20:44.068Z"
      },
      {
        "duration": 3,
        "start_time": "2024-06-30T14:20:44.326Z"
      },
      {
        "duration": 17,
        "start_time": "2024-06-30T14:20:44.330Z"
      },
      {
        "duration": 358,
        "start_time": "2024-06-30T14:20:44.349Z"
      },
      {
        "duration": 212,
        "start_time": "2024-06-30T14:20:44.708Z"
      },
      {
        "duration": 176,
        "start_time": "2024-06-30T14:20:44.921Z"
      },
      {
        "duration": 4,
        "start_time": "2024-06-30T14:20:45.098Z"
      },
      {
        "duration": 27,
        "start_time": "2024-06-30T14:20:45.103Z"
      },
      {
        "duration": 243,
        "start_time": "2024-06-30T14:20:45.132Z"
      },
      {
        "duration": 196,
        "start_time": "2024-06-30T14:20:45.377Z"
      },
      {
        "duration": 2,
        "start_time": "2024-06-30T14:20:45.575Z"
      },
      {
        "duration": 9,
        "start_time": "2024-06-30T14:20:45.579Z"
      },
      {
        "duration": 254,
        "start_time": "2024-06-30T14:20:45.589Z"
      },
      {
        "duration": 4,
        "start_time": "2024-06-30T14:20:45.844Z"
      },
      {
        "duration": 259,
        "start_time": "2024-06-30T14:20:45.849Z"
      },
      {
        "duration": 2,
        "start_time": "2024-06-30T14:20:46.110Z"
      },
      {
        "duration": 10,
        "start_time": "2024-06-30T14:20:46.113Z"
      },
      {
        "duration": 94,
        "start_time": "2024-06-30T14:20:46.125Z"
      },
      {
        "duration": 0,
        "start_time": "2024-06-30T14:20:46.221Z"
      },
      {
        "duration": 0,
        "start_time": "2024-06-30T14:20:46.222Z"
      },
      {
        "duration": 0,
        "start_time": "2024-06-30T14:20:46.223Z"
      },
      {
        "duration": 0,
        "start_time": "2024-06-30T14:20:46.225Z"
      },
      {
        "duration": 26,
        "start_time": "2024-06-30T14:20:58.416Z"
      },
      {
        "duration": 3,
        "start_time": "2024-06-30T14:21:00.563Z"
      },
      {
        "duration": 4,
        "start_time": "2024-06-30T14:21:02.492Z"
      },
      {
        "duration": 98,
        "start_time": "2024-06-30T14:21:05.024Z"
      },
      {
        "duration": 9,
        "start_time": "2024-06-30T14:21:49.076Z"
      },
      {
        "duration": 4,
        "start_time": "2024-06-30T14:21:55.045Z"
      },
      {
        "duration": 4,
        "start_time": "2024-06-30T14:22:00.108Z"
      },
      {
        "duration": 17,
        "start_time": "2024-06-30T14:24:01.015Z"
      },
      {
        "duration": 6747,
        "start_time": "2024-06-30T14:25:25.270Z"
      },
      {
        "duration": 1439,
        "start_time": "2024-06-30T14:25:32.019Z"
      },
      {
        "duration": 59,
        "start_time": "2024-06-30T14:25:33.462Z"
      },
      {
        "duration": 10,
        "start_time": "2024-06-30T14:25:33.523Z"
      },
      {
        "duration": 17,
        "start_time": "2024-06-30T14:25:33.534Z"
      },
      {
        "duration": 34,
        "start_time": "2024-06-30T14:25:33.552Z"
      },
      {
        "duration": 14,
        "start_time": "2024-06-30T14:25:33.588Z"
      },
      {
        "duration": 312,
        "start_time": "2024-06-30T14:25:33.604Z"
      },
      {
        "duration": 19,
        "start_time": "2024-06-30T14:25:33.919Z"
      },
      {
        "duration": 4,
        "start_time": "2024-06-30T14:25:33.940Z"
      },
      {
        "duration": 19,
        "start_time": "2024-06-30T14:25:33.946Z"
      },
      {
        "duration": 384,
        "start_time": "2024-06-30T14:25:33.966Z"
      },
      {
        "duration": 8,
        "start_time": "2024-06-30T14:25:34.352Z"
      },
      {
        "duration": 30,
        "start_time": "2024-06-30T14:25:34.362Z"
      },
      {
        "duration": 313,
        "start_time": "2024-06-30T14:25:34.394Z"
      },
      {
        "duration": 4,
        "start_time": "2024-06-30T14:25:34.708Z"
      },
      {
        "duration": 42,
        "start_time": "2024-06-30T14:25:34.713Z"
      },
      {
        "duration": 295,
        "start_time": "2024-06-30T14:25:34.756Z"
      },
      {
        "duration": 196,
        "start_time": "2024-06-30T14:25:35.052Z"
      },
      {
        "duration": 184,
        "start_time": "2024-06-30T14:25:35.249Z"
      },
      {
        "duration": 4,
        "start_time": "2024-06-30T14:25:35.437Z"
      },
      {
        "duration": 10,
        "start_time": "2024-06-30T14:25:35.443Z"
      },
      {
        "duration": 273,
        "start_time": "2024-06-30T14:25:35.455Z"
      },
      {
        "duration": 190,
        "start_time": "2024-06-30T14:25:35.730Z"
      },
      {
        "duration": 3,
        "start_time": "2024-06-30T14:25:35.921Z"
      },
      {
        "duration": 44,
        "start_time": "2024-06-30T14:25:35.925Z"
      },
      {
        "duration": 275,
        "start_time": "2024-06-30T14:25:35.972Z"
      },
      {
        "duration": 4,
        "start_time": "2024-06-30T14:25:36.249Z"
      },
      {
        "duration": 257,
        "start_time": "2024-06-30T14:25:36.254Z"
      },
      {
        "duration": 2,
        "start_time": "2024-06-30T14:25:36.513Z"
      },
      {
        "duration": 8,
        "start_time": "2024-06-30T14:25:36.516Z"
      },
      {
        "duration": 35,
        "start_time": "2024-06-30T14:25:36.525Z"
      },
      {
        "duration": 2,
        "start_time": "2024-06-30T14:25:36.562Z"
      },
      {
        "duration": 51,
        "start_time": "2024-06-30T14:25:36.566Z"
      },
      {
        "duration": 12,
        "start_time": "2024-06-30T14:25:36.619Z"
      },
      {
        "duration": 87,
        "start_time": "2024-06-30T14:25:36.632Z"
      },
      {
        "duration": 4,
        "start_time": "2024-06-30T14:27:08.151Z"
      },
      {
        "duration": 2,
        "start_time": "2024-06-30T14:28:06.394Z"
      },
      {
        "duration": 4,
        "start_time": "2024-06-30T14:28:58.750Z"
      },
      {
        "duration": 2,
        "start_time": "2024-06-30T14:29:45.147Z"
      },
      {
        "duration": 3,
        "start_time": "2024-06-30T14:29:51.918Z"
      },
      {
        "duration": 20892,
        "start_time": "2024-06-30T14:31:18.555Z"
      },
      {
        "duration": 20,
        "start_time": "2024-06-30T14:32:09.315Z"
      },
      {
        "duration": 24,
        "start_time": "2024-06-30T14:32:57.829Z"
      },
      {
        "duration": 4,
        "start_time": "2024-06-30T14:34:06.140Z"
      },
      {
        "duration": 8,
        "start_time": "2024-06-30T14:34:16.283Z"
      },
      {
        "duration": 109,
        "start_time": "2024-06-30T14:34:26.036Z"
      },
      {
        "duration": 5,
        "start_time": "2024-06-30T14:35:02.227Z"
      },
      {
        "duration": 3,
        "start_time": "2024-06-30T14:35:03.873Z"
      },
      {
        "duration": 6,
        "start_time": "2024-06-30T14:35:07.942Z"
      },
      {
        "duration": 5,
        "start_time": "2024-06-30T14:35:28.062Z"
      },
      {
        "duration": 18,
        "start_time": "2024-06-30T14:35:46.413Z"
      },
      {
        "duration": 6707,
        "start_time": "2024-06-30T14:36:36.432Z"
      },
      {
        "duration": 1372,
        "start_time": "2024-06-30T14:36:43.141Z"
      },
      {
        "duration": 3,
        "start_time": "2024-06-30T14:36:44.514Z"
      },
      {
        "duration": 55,
        "start_time": "2024-06-30T14:36:44.518Z"
      },
      {
        "duration": 9,
        "start_time": "2024-06-30T14:36:44.575Z"
      },
      {
        "duration": 11,
        "start_time": "2024-06-30T14:36:44.585Z"
      },
      {
        "duration": 5,
        "start_time": "2024-06-30T14:36:44.597Z"
      },
      {
        "duration": 3,
        "start_time": "2024-06-30T14:36:44.603Z"
      },
      {
        "duration": 319,
        "start_time": "2024-06-30T14:36:44.607Z"
      },
      {
        "duration": 13,
        "start_time": "2024-06-30T14:36:44.930Z"
      },
      {
        "duration": 4,
        "start_time": "2024-06-30T14:36:44.945Z"
      },
      {
        "duration": 14,
        "start_time": "2024-06-30T14:36:44.951Z"
      },
      {
        "duration": 403,
        "start_time": "2024-06-30T14:36:44.967Z"
      },
      {
        "duration": 7,
        "start_time": "2024-06-30T14:36:45.372Z"
      },
      {
        "duration": 21,
        "start_time": "2024-06-30T14:36:45.380Z"
      },
      {
        "duration": 343,
        "start_time": "2024-06-30T14:36:45.402Z"
      },
      {
        "duration": 3,
        "start_time": "2024-06-30T14:36:45.747Z"
      },
      {
        "duration": 14,
        "start_time": "2024-06-30T14:36:45.752Z"
      },
      {
        "duration": 280,
        "start_time": "2024-06-30T14:36:45.767Z"
      },
      {
        "duration": 186,
        "start_time": "2024-06-30T14:36:46.048Z"
      },
      {
        "duration": 174,
        "start_time": "2024-06-30T14:36:46.237Z"
      },
      {
        "duration": 3,
        "start_time": "2024-06-30T14:36:46.413Z"
      },
      {
        "duration": 21,
        "start_time": "2024-06-30T14:36:46.418Z"
      },
      {
        "duration": 250,
        "start_time": "2024-06-30T14:36:46.440Z"
      },
      {
        "duration": 204,
        "start_time": "2024-06-30T14:36:46.692Z"
      },
      {
        "duration": 3,
        "start_time": "2024-06-30T14:36:46.897Z"
      },
      {
        "duration": 43,
        "start_time": "2024-06-30T14:36:46.901Z"
      },
      {
        "duration": 394,
        "start_time": "2024-06-30T14:36:46.948Z"
      },
      {
        "duration": 4,
        "start_time": "2024-06-30T14:36:47.344Z"
      },
      {
        "duration": 292,
        "start_time": "2024-06-30T14:36:47.349Z"
      },
      {
        "duration": 3,
        "start_time": "2024-06-30T14:36:47.642Z"
      },
      {
        "duration": 28,
        "start_time": "2024-06-30T14:36:47.647Z"
      },
      {
        "duration": 43,
        "start_time": "2024-06-30T14:36:47.677Z"
      },
      {
        "duration": 3,
        "start_time": "2024-06-30T14:36:47.721Z"
      },
      {
        "duration": 8,
        "start_time": "2024-06-30T14:36:47.726Z"
      },
      {
        "duration": 3,
        "start_time": "2024-06-30T14:36:47.736Z"
      },
      {
        "duration": 104,
        "start_time": "2024-06-30T14:36:47.741Z"
      },
      {
        "duration": 5,
        "start_time": "2024-06-30T14:36:47.847Z"
      },
      {
        "duration": 4,
        "start_time": "2024-06-30T14:36:47.854Z"
      },
      {
        "duration": 172381,
        "start_time": "2024-06-30T14:36:47.860Z"
      },
      {
        "duration": 33,
        "start_time": "2024-06-30T14:39:40.243Z"
      },
      {
        "duration": 5,
        "start_time": "2024-06-30T14:39:40.278Z"
      },
      {
        "duration": 61,
        "start_time": "2024-06-30T14:39:40.285Z"
      },
      {
        "duration": 6,
        "start_time": "2024-06-30T14:39:40.348Z"
      },
      {
        "duration": 6757,
        "start_time": "2024-06-30T15:29:25.895Z"
      },
      {
        "duration": 1328,
        "start_time": "2024-06-30T15:29:32.655Z"
      },
      {
        "duration": 2,
        "start_time": "2024-06-30T15:29:33.985Z"
      },
      {
        "duration": 103,
        "start_time": "2024-06-30T15:29:33.989Z"
      },
      {
        "duration": 15,
        "start_time": "2024-06-30T15:29:34.094Z"
      },
      {
        "duration": 12,
        "start_time": "2024-06-30T15:29:34.111Z"
      },
      {
        "duration": 4,
        "start_time": "2024-06-30T15:29:34.124Z"
      },
      {
        "duration": 5,
        "start_time": "2024-06-30T15:29:34.129Z"
      },
      {
        "duration": 300,
        "start_time": "2024-06-30T15:29:34.135Z"
      },
      {
        "duration": 12,
        "start_time": "2024-06-30T15:29:34.437Z"
      },
      {
        "duration": 3,
        "start_time": "2024-06-30T15:29:34.450Z"
      },
      {
        "duration": 9,
        "start_time": "2024-06-30T15:29:34.465Z"
      },
      {
        "duration": 436,
        "start_time": "2024-06-30T15:29:34.475Z"
      },
      {
        "duration": 6,
        "start_time": "2024-06-30T15:29:34.912Z"
      },
      {
        "duration": 3,
        "start_time": "2024-06-30T15:29:34.920Z"
      },
      {
        "duration": 316,
        "start_time": "2024-06-30T15:29:34.924Z"
      },
      {
        "duration": 3,
        "start_time": "2024-06-30T15:29:35.242Z"
      },
      {
        "duration": 17,
        "start_time": "2024-06-30T15:29:35.247Z"
      },
      {
        "duration": 253,
        "start_time": "2024-06-30T15:29:35.266Z"
      },
      {
        "duration": 204,
        "start_time": "2024-06-30T15:29:35.520Z"
      },
      {
        "duration": 182,
        "start_time": "2024-06-30T15:29:35.726Z"
      },
      {
        "duration": 3,
        "start_time": "2024-06-30T15:29:35.910Z"
      },
      {
        "duration": 4,
        "start_time": "2024-06-30T15:29:35.914Z"
      },
      {
        "duration": 241,
        "start_time": "2024-06-30T15:29:35.920Z"
      },
      {
        "duration": 188,
        "start_time": "2024-06-30T15:29:36.162Z"
      },
      {
        "duration": 3,
        "start_time": "2024-06-30T15:29:36.351Z"
      },
      {
        "duration": 11,
        "start_time": "2024-06-30T15:29:36.355Z"
      },
      {
        "duration": 259,
        "start_time": "2024-06-30T15:29:36.369Z"
      },
      {
        "duration": 3,
        "start_time": "2024-06-30T15:29:36.630Z"
      },
      {
        "duration": 261,
        "start_time": "2024-06-30T15:29:36.635Z"
      },
      {
        "duration": 3,
        "start_time": "2024-06-30T15:29:36.897Z"
      },
      {
        "duration": 6,
        "start_time": "2024-06-30T15:29:36.901Z"
      },
      {
        "duration": 27,
        "start_time": "2024-06-30T15:29:36.908Z"
      },
      {
        "duration": 2,
        "start_time": "2024-06-30T15:29:36.936Z"
      },
      {
        "duration": 25,
        "start_time": "2024-06-30T15:29:36.940Z"
      },
      {
        "duration": 9,
        "start_time": "2024-06-30T15:29:36.967Z"
      },
      {
        "duration": 10,
        "start_time": "2024-06-30T15:29:36.977Z"
      },
      {
        "duration": 3,
        "start_time": "2024-06-30T15:29:36.989Z"
      },
      {
        "duration": 5,
        "start_time": "2024-06-30T15:29:36.993Z"
      },
      {
        "duration": 223175,
        "start_time": "2024-06-30T15:29:37.000Z"
      },
      {
        "duration": 89,
        "start_time": "2024-06-30T15:33:20.177Z"
      },
      {
        "duration": 28,
        "start_time": "2024-06-30T15:33:20.268Z"
      },
      {
        "duration": 16,
        "start_time": "2024-06-30T15:33:20.297Z"
      },
      {
        "duration": 5,
        "start_time": "2024-06-30T15:33:20.366Z"
      },
      {
        "duration": 6859,
        "start_time": "2024-06-30T16:35:36.798Z"
      },
      {
        "duration": 1458,
        "start_time": "2024-06-30T16:35:43.659Z"
      },
      {
        "duration": 3,
        "start_time": "2024-06-30T16:35:45.118Z"
      },
      {
        "duration": 71,
        "start_time": "2024-06-30T16:35:45.122Z"
      },
      {
        "duration": 9,
        "start_time": "2024-06-30T16:35:45.195Z"
      },
      {
        "duration": 36,
        "start_time": "2024-06-30T16:35:45.206Z"
      },
      {
        "duration": 17,
        "start_time": "2024-06-30T16:35:45.244Z"
      },
      {
        "duration": 19,
        "start_time": "2024-06-30T16:35:45.263Z"
      },
      {
        "duration": 315,
        "start_time": "2024-06-30T16:35:45.283Z"
      },
      {
        "duration": 11,
        "start_time": "2024-06-30T16:35:45.599Z"
      },
      {
        "duration": 31,
        "start_time": "2024-06-30T16:35:45.612Z"
      },
      {
        "duration": 19,
        "start_time": "2024-06-30T16:35:45.644Z"
      },
      {
        "duration": 396,
        "start_time": "2024-06-30T16:35:45.664Z"
      },
      {
        "duration": 8,
        "start_time": "2024-06-30T16:35:46.062Z"
      },
      {
        "duration": 13,
        "start_time": "2024-06-30T16:35:46.072Z"
      },
      {
        "duration": 300,
        "start_time": "2024-06-30T16:35:46.087Z"
      },
      {
        "duration": 5,
        "start_time": "2024-06-30T16:35:46.389Z"
      },
      {
        "duration": 15,
        "start_time": "2024-06-30T16:35:46.396Z"
      },
      {
        "duration": 297,
        "start_time": "2024-06-30T16:35:46.412Z"
      },
      {
        "duration": 200,
        "start_time": "2024-06-30T16:35:46.711Z"
      },
      {
        "duration": 201,
        "start_time": "2024-06-30T16:35:46.913Z"
      },
      {
        "duration": 3,
        "start_time": "2024-06-30T16:35:47.116Z"
      },
      {
        "duration": 13,
        "start_time": "2024-06-30T16:35:47.120Z"
      },
      {
        "duration": 264,
        "start_time": "2024-06-30T16:35:47.135Z"
      },
      {
        "duration": 218,
        "start_time": "2024-06-30T16:35:47.400Z"
      },
      {
        "duration": 2,
        "start_time": "2024-06-30T16:35:47.620Z"
      },
      {
        "duration": 15,
        "start_time": "2024-06-30T16:35:47.624Z"
      },
      {
        "duration": 288,
        "start_time": "2024-06-30T16:35:47.641Z"
      },
      {
        "duration": 3,
        "start_time": "2024-06-30T16:35:47.937Z"
      },
      {
        "duration": 283,
        "start_time": "2024-06-30T16:35:47.941Z"
      },
      {
        "duration": 13,
        "start_time": "2024-06-30T16:35:48.225Z"
      },
      {
        "duration": 128,
        "start_time": "2024-06-30T16:40:35.481Z"
      },
      {
        "duration": 4,
        "start_time": "2024-06-30T16:40:44.649Z"
      },
      {
        "duration": 4,
        "start_time": "2024-06-30T16:42:02.360Z"
      },
      {
        "duration": 4,
        "start_time": "2024-06-30T16:42:11.141Z"
      },
      {
        "duration": 9,
        "start_time": "2024-06-30T16:42:29.582Z"
      },
      {
        "duration": 4,
        "start_time": "2024-06-30T16:42:36.670Z"
      },
      {
        "duration": 6841,
        "start_time": "2024-06-30T16:54:07.806Z"
      },
      {
        "duration": 1390,
        "start_time": "2024-06-30T16:54:14.649Z"
      },
      {
        "duration": 2,
        "start_time": "2024-06-30T16:54:16.041Z"
      },
      {
        "duration": 51,
        "start_time": "2024-06-30T16:54:16.045Z"
      },
      {
        "duration": 10,
        "start_time": "2024-06-30T16:54:16.097Z"
      },
      {
        "duration": 9,
        "start_time": "2024-06-30T16:54:16.108Z"
      },
      {
        "duration": 4,
        "start_time": "2024-06-30T16:54:16.118Z"
      },
      {
        "duration": 15,
        "start_time": "2024-06-30T16:54:16.124Z"
      },
      {
        "duration": 283,
        "start_time": "2024-06-30T16:54:16.140Z"
      },
      {
        "duration": 14,
        "start_time": "2024-06-30T16:54:16.426Z"
      },
      {
        "duration": 3,
        "start_time": "2024-06-30T16:54:16.441Z"
      },
      {
        "duration": 21,
        "start_time": "2024-06-30T16:54:16.445Z"
      },
      {
        "duration": 377,
        "start_time": "2024-06-30T16:54:16.467Z"
      },
      {
        "duration": 8,
        "start_time": "2024-06-30T16:54:16.846Z"
      },
      {
        "duration": 13,
        "start_time": "2024-06-30T16:54:16.855Z"
      },
      {
        "duration": 335,
        "start_time": "2024-06-30T16:54:16.870Z"
      },
      {
        "duration": 5,
        "start_time": "2024-06-30T16:54:17.206Z"
      },
      {
        "duration": 5,
        "start_time": "2024-06-30T16:54:17.212Z"
      },
      {
        "duration": 285,
        "start_time": "2024-06-30T16:54:17.218Z"
      },
      {
        "duration": 192,
        "start_time": "2024-06-30T16:54:17.504Z"
      },
      {
        "duration": 184,
        "start_time": "2024-06-30T16:54:17.697Z"
      },
      {
        "duration": 4,
        "start_time": "2024-06-30T16:54:17.883Z"
      },
      {
        "duration": 15,
        "start_time": "2024-06-30T16:54:17.889Z"
      },
      {
        "duration": 229,
        "start_time": "2024-06-30T16:54:17.905Z"
      },
      {
        "duration": 204,
        "start_time": "2024-06-30T16:54:18.138Z"
      },
      {
        "duration": 3,
        "start_time": "2024-06-30T16:54:18.344Z"
      },
      {
        "duration": 17,
        "start_time": "2024-06-30T16:54:18.349Z"
      },
      {
        "duration": 252,
        "start_time": "2024-06-30T16:54:18.369Z"
      },
      {
        "duration": 3,
        "start_time": "2024-06-30T16:54:18.622Z"
      },
      {
        "duration": 261,
        "start_time": "2024-06-30T16:54:18.627Z"
      },
      {
        "duration": 3,
        "start_time": "2024-06-30T16:54:18.889Z"
      },
      {
        "duration": 12,
        "start_time": "2024-06-30T16:54:18.893Z"
      },
      {
        "duration": 46,
        "start_time": "2024-06-30T16:54:18.906Z"
      },
      {
        "duration": 2,
        "start_time": "2024-06-30T16:54:18.954Z"
      },
      {
        "duration": 7,
        "start_time": "2024-06-30T16:54:18.957Z"
      },
      {
        "duration": 198,
        "start_time": "2024-06-30T16:54:18.965Z"
      },
      {
        "duration": 0,
        "start_time": "2024-06-30T16:54:19.165Z"
      },
      {
        "duration": 0,
        "start_time": "2024-06-30T16:54:19.167Z"
      },
      {
        "duration": 0,
        "start_time": "2024-06-30T16:54:19.168Z"
      },
      {
        "duration": 0,
        "start_time": "2024-06-30T16:54:19.169Z"
      },
      {
        "duration": 1,
        "start_time": "2024-06-30T16:54:19.170Z"
      },
      {
        "duration": 0,
        "start_time": "2024-06-30T16:54:19.172Z"
      },
      {
        "duration": 0,
        "start_time": "2024-06-30T16:54:19.173Z"
      },
      {
        "duration": 0,
        "start_time": "2024-06-30T16:54:19.174Z"
      },
      {
        "duration": 4,
        "start_time": "2024-06-30T16:56:08.855Z"
      },
      {
        "duration": 6757,
        "start_time": "2024-06-30T16:56:14.218Z"
      },
      {
        "duration": 1383,
        "start_time": "2024-06-30T16:56:20.977Z"
      },
      {
        "duration": 3,
        "start_time": "2024-06-30T16:56:22.361Z"
      },
      {
        "duration": 49,
        "start_time": "2024-06-30T16:56:22.366Z"
      },
      {
        "duration": 10,
        "start_time": "2024-06-30T16:56:22.416Z"
      },
      {
        "duration": 14,
        "start_time": "2024-06-30T16:56:22.427Z"
      },
      {
        "duration": 21,
        "start_time": "2024-06-30T16:56:22.442Z"
      },
      {
        "duration": 5,
        "start_time": "2024-06-30T16:56:22.464Z"
      },
      {
        "duration": 287,
        "start_time": "2024-06-30T16:56:22.470Z"
      },
      {
        "duration": 12,
        "start_time": "2024-06-30T16:56:22.760Z"
      },
      {
        "duration": 24,
        "start_time": "2024-06-30T16:56:22.773Z"
      },
      {
        "duration": 15,
        "start_time": "2024-06-30T16:56:22.798Z"
      },
      {
        "duration": 362,
        "start_time": "2024-06-30T16:56:22.814Z"
      },
      {
        "duration": 7,
        "start_time": "2024-06-30T16:56:23.177Z"
      },
      {
        "duration": 3,
        "start_time": "2024-06-30T16:56:23.185Z"
      },
      {
        "duration": 324,
        "start_time": "2024-06-30T16:56:23.190Z"
      },
      {
        "duration": 5,
        "start_time": "2024-06-30T16:56:23.516Z"
      },
      {
        "duration": 28,
        "start_time": "2024-06-30T16:56:23.523Z"
      },
      {
        "duration": 286,
        "start_time": "2024-06-30T16:56:23.553Z"
      },
      {
        "duration": 200,
        "start_time": "2024-06-30T16:56:23.841Z"
      },
      {
        "duration": 176,
        "start_time": "2024-06-30T16:56:24.042Z"
      },
      {
        "duration": 4,
        "start_time": "2024-06-30T16:56:24.220Z"
      },
      {
        "duration": 3,
        "start_time": "2024-06-30T16:56:24.237Z"
      },
      {
        "duration": 241,
        "start_time": "2024-06-30T16:56:24.241Z"
      },
      {
        "duration": 193,
        "start_time": "2024-06-30T16:56:24.484Z"
      },
      {
        "duration": 2,
        "start_time": "2024-06-30T16:56:24.679Z"
      },
      {
        "duration": 6,
        "start_time": "2024-06-30T16:56:24.682Z"
      },
      {
        "duration": 261,
        "start_time": "2024-06-30T16:56:24.691Z"
      },
      {
        "duration": 4,
        "start_time": "2024-06-30T16:56:24.954Z"
      },
      {
        "duration": 280,
        "start_time": "2024-06-30T16:56:24.960Z"
      },
      {
        "duration": 2,
        "start_time": "2024-06-30T16:56:25.242Z"
      },
      {
        "duration": 6,
        "start_time": "2024-06-30T16:56:25.245Z"
      },
      {
        "duration": 26,
        "start_time": "2024-06-30T16:56:25.252Z"
      },
      {
        "duration": 2,
        "start_time": "2024-06-30T16:56:25.280Z"
      },
      {
        "duration": 11,
        "start_time": "2024-06-30T16:56:25.283Z"
      },
      {
        "duration": 234,
        "start_time": "2024-06-30T16:56:25.295Z"
      },
      {
        "duration": 1,
        "start_time": "2024-06-30T16:56:25.530Z"
      },
      {
        "duration": 0,
        "start_time": "2024-06-30T16:56:25.531Z"
      },
      {
        "duration": 0,
        "start_time": "2024-06-30T16:56:25.531Z"
      },
      {
        "duration": 0,
        "start_time": "2024-06-30T16:56:25.532Z"
      },
      {
        "duration": 0,
        "start_time": "2024-06-30T16:56:25.532Z"
      },
      {
        "duration": 0,
        "start_time": "2024-06-30T16:56:25.533Z"
      },
      {
        "duration": 0,
        "start_time": "2024-06-30T16:56:25.536Z"
      },
      {
        "duration": 0,
        "start_time": "2024-06-30T16:56:25.538Z"
      },
      {
        "duration": 10,
        "start_time": "2024-06-30T16:57:05.048Z"
      },
      {
        "duration": 10,
        "start_time": "2024-06-30T16:57:21.064Z"
      },
      {
        "duration": 4,
        "start_time": "2024-06-30T16:58:38.102Z"
      },
      {
        "duration": 6757,
        "start_time": "2024-06-30T16:58:45.814Z"
      },
      {
        "duration": 1370,
        "start_time": "2024-06-30T16:58:52.573Z"
      },
      {
        "duration": 3,
        "start_time": "2024-06-30T16:58:53.947Z"
      },
      {
        "duration": 61,
        "start_time": "2024-06-30T16:58:53.951Z"
      },
      {
        "duration": 9,
        "start_time": "2024-06-30T16:58:54.014Z"
      },
      {
        "duration": 14,
        "start_time": "2024-06-30T16:58:54.025Z"
      },
      {
        "duration": 4,
        "start_time": "2024-06-30T16:58:54.040Z"
      },
      {
        "duration": 2,
        "start_time": "2024-06-30T16:58:54.046Z"
      },
      {
        "duration": 302,
        "start_time": "2024-06-30T16:58:54.050Z"
      },
      {
        "duration": 11,
        "start_time": "2024-06-30T16:58:54.354Z"
      },
      {
        "duration": 2,
        "start_time": "2024-06-30T16:58:54.367Z"
      },
      {
        "duration": 5,
        "start_time": "2024-06-30T16:58:54.370Z"
      },
      {
        "duration": 367,
        "start_time": "2024-06-30T16:58:54.376Z"
      },
      {
        "duration": 7,
        "start_time": "2024-06-30T16:58:54.744Z"
      },
      {
        "duration": 13,
        "start_time": "2024-06-30T16:58:54.752Z"
      },
      {
        "duration": 323,
        "start_time": "2024-06-30T16:58:54.766Z"
      },
      {
        "duration": 3,
        "start_time": "2024-06-30T16:58:55.090Z"
      },
      {
        "duration": 35,
        "start_time": "2024-06-30T16:58:55.095Z"
      },
      {
        "duration": 320,
        "start_time": "2024-06-30T16:58:55.131Z"
      },
      {
        "duration": 202,
        "start_time": "2024-06-30T16:58:55.452Z"
      },
      {
        "duration": 168,
        "start_time": "2024-06-30T16:58:55.656Z"
      },
      {
        "duration": 3,
        "start_time": "2024-06-30T16:58:55.826Z"
      },
      {
        "duration": 5,
        "start_time": "2024-06-30T16:58:55.837Z"
      },
      {
        "duration": 230,
        "start_time": "2024-06-30T16:58:55.844Z"
      },
      {
        "duration": 191,
        "start_time": "2024-06-30T16:58:56.076Z"
      },
      {
        "duration": 2,
        "start_time": "2024-06-30T16:58:56.269Z"
      },
      {
        "duration": 45,
        "start_time": "2024-06-30T16:58:56.276Z"
      },
      {
        "duration": 266,
        "start_time": "2024-06-30T16:58:56.323Z"
      },
      {
        "duration": 3,
        "start_time": "2024-06-30T16:58:56.591Z"
      },
      {
        "duration": 271,
        "start_time": "2024-06-30T16:58:56.595Z"
      },
      {
        "duration": 3,
        "start_time": "2024-06-30T16:58:56.867Z"
      },
      {
        "duration": 38,
        "start_time": "2024-06-30T16:58:56.872Z"
      },
      {
        "duration": 55,
        "start_time": "2024-06-30T16:58:56.912Z"
      },
      {
        "duration": 2,
        "start_time": "2024-06-30T16:58:56.969Z"
      },
      {
        "duration": 11,
        "start_time": "2024-06-30T16:58:56.973Z"
      },
      {
        "duration": 38,
        "start_time": "2024-06-30T16:58:56.986Z"
      },
      {
        "duration": 91,
        "start_time": "2024-06-30T16:58:57.026Z"
      },
      {
        "duration": 24,
        "start_time": "2024-06-30T16:58:57.119Z"
      },
      {
        "duration": 20,
        "start_time": "2024-06-30T16:58:57.144Z"
      },
      {
        "duration": 90185,
        "start_time": "2024-06-30T16:58:57.165Z"
      },
      {
        "duration": 92,
        "start_time": "2024-06-30T17:00:27.352Z"
      },
      {
        "duration": 4,
        "start_time": "2024-06-30T17:00:27.446Z"
      },
      {
        "duration": 27,
        "start_time": "2024-06-30T17:00:27.451Z"
      },
      {
        "duration": 5,
        "start_time": "2024-06-30T17:00:27.537Z"
      },
      {
        "duration": 38,
        "start_time": "2024-06-30T17:01:38.411Z"
      },
      {
        "duration": 105,
        "start_time": "2024-06-30T17:01:53.237Z"
      },
      {
        "duration": 135,
        "start_time": "2024-06-30T17:02:46.855Z"
      },
      {
        "duration": 11,
        "start_time": "2024-06-30T17:02:58.601Z"
      },
      {
        "duration": 11,
        "start_time": "2024-06-30T17:03:16.942Z"
      },
      {
        "duration": 7176,
        "start_time": "2024-06-30T17:04:21.340Z"
      },
      {
        "duration": 1405,
        "start_time": "2024-06-30T17:04:28.519Z"
      },
      {
        "duration": 2,
        "start_time": "2024-06-30T17:04:29.925Z"
      },
      {
        "duration": 52,
        "start_time": "2024-06-30T17:04:29.929Z"
      },
      {
        "duration": 9,
        "start_time": "2024-06-30T17:04:29.983Z"
      },
      {
        "duration": 8,
        "start_time": "2024-06-30T17:04:29.993Z"
      },
      {
        "duration": 12,
        "start_time": "2024-06-30T17:04:30.003Z"
      },
      {
        "duration": 27,
        "start_time": "2024-06-30T17:04:30.017Z"
      },
      {
        "duration": 351,
        "start_time": "2024-06-30T17:04:30.045Z"
      },
      {
        "duration": 13,
        "start_time": "2024-06-30T17:04:30.398Z"
      },
      {
        "duration": 46,
        "start_time": "2024-06-30T17:04:30.412Z"
      },
      {
        "duration": 52,
        "start_time": "2024-06-30T17:04:30.460Z"
      },
      {
        "duration": 505,
        "start_time": "2024-06-30T17:04:30.514Z"
      },
      {
        "duration": 19,
        "start_time": "2024-06-30T17:04:31.021Z"
      },
      {
        "duration": 74,
        "start_time": "2024-06-30T17:04:31.042Z"
      },
      {
        "duration": 399,
        "start_time": "2024-06-30T17:04:31.117Z"
      },
      {
        "duration": 3,
        "start_time": "2024-06-30T17:04:31.518Z"
      },
      {
        "duration": 5,
        "start_time": "2024-06-30T17:04:31.537Z"
      },
      {
        "duration": 332,
        "start_time": "2024-06-30T17:04:31.543Z"
      },
      {
        "duration": 202,
        "start_time": "2024-06-30T17:04:31.877Z"
      },
      {
        "duration": 198,
        "start_time": "2024-06-30T17:04:32.080Z"
      },
      {
        "duration": 4,
        "start_time": "2024-06-30T17:04:32.280Z"
      },
      {
        "duration": 28,
        "start_time": "2024-06-30T17:04:32.286Z"
      },
      {
        "duration": 255,
        "start_time": "2024-06-30T17:04:32.316Z"
      },
      {
        "duration": 208,
        "start_time": "2024-06-30T17:04:32.572Z"
      },
      {
        "duration": 3,
        "start_time": "2024-06-30T17:04:32.782Z"
      },
      {
        "duration": 7,
        "start_time": "2024-06-30T17:04:32.787Z"
      },
      {
        "duration": 286,
        "start_time": "2024-06-30T17:04:32.799Z"
      },
      {
        "duration": 3,
        "start_time": "2024-06-30T17:04:33.087Z"
      },
      {
        "duration": 260,
        "start_time": "2024-06-30T17:04:33.092Z"
      },
      {
        "duration": 2,
        "start_time": "2024-06-30T17:04:33.354Z"
      },
      {
        "duration": 31,
        "start_time": "2024-06-30T17:04:33.358Z"
      },
      {
        "duration": 26,
        "start_time": "2024-06-30T17:04:33.391Z"
      },
      {
        "duration": 3,
        "start_time": "2024-06-30T17:04:33.418Z"
      },
      {
        "duration": 8,
        "start_time": "2024-06-30T17:04:33.422Z"
      },
      {
        "duration": 10,
        "start_time": "2024-06-30T17:04:33.431Z"
      },
      {
        "duration": 100,
        "start_time": "2024-06-30T17:04:33.443Z"
      },
      {
        "duration": 42,
        "start_time": "2024-06-30T17:04:33.545Z"
      },
      {
        "duration": 5,
        "start_time": "2024-06-30T17:04:33.590Z"
      },
      {
        "duration": 66953,
        "start_time": "2024-06-30T17:04:33.596Z"
      },
      {
        "duration": 23,
        "start_time": "2024-06-30T17:05:40.638Z"
      },
      {
        "duration": 11,
        "start_time": "2024-06-30T17:05:40.662Z"
      },
      {
        "duration": 64,
        "start_time": "2024-06-30T17:05:40.674Z"
      },
      {
        "duration": 5,
        "start_time": "2024-06-30T17:05:40.740Z"
      },
      {
        "duration": 143,
        "start_time": "2024-06-30T17:05:40.747Z"
      },
      {
        "duration": 177,
        "start_time": "2024-06-30T17:05:57.655Z"
      },
      {
        "duration": 197,
        "start_time": "2024-06-30T17:06:17.243Z"
      },
      {
        "duration": 6892,
        "start_time": "2024-06-30T17:12:24.934Z"
      },
      {
        "duration": 1404,
        "start_time": "2024-06-30T17:12:31.828Z"
      },
      {
        "duration": 2,
        "start_time": "2024-06-30T17:12:33.234Z"
      },
      {
        "duration": 68,
        "start_time": "2024-06-30T17:12:33.239Z"
      },
      {
        "duration": 9,
        "start_time": "2024-06-30T17:12:33.308Z"
      },
      {
        "duration": 17,
        "start_time": "2024-06-30T17:12:33.319Z"
      },
      {
        "duration": 5,
        "start_time": "2024-06-30T17:12:33.337Z"
      },
      {
        "duration": 3,
        "start_time": "2024-06-30T17:12:33.343Z"
      },
      {
        "duration": 326,
        "start_time": "2024-06-30T17:12:33.347Z"
      },
      {
        "duration": 15,
        "start_time": "2024-06-30T17:12:33.676Z"
      },
      {
        "duration": 54,
        "start_time": "2024-06-30T17:12:33.692Z"
      },
      {
        "duration": 6,
        "start_time": "2024-06-30T17:12:33.748Z"
      },
      {
        "duration": 386,
        "start_time": "2024-06-30T17:12:33.755Z"
      },
      {
        "duration": 7,
        "start_time": "2024-06-30T17:12:34.142Z"
      },
      {
        "duration": 4,
        "start_time": "2024-06-30T17:12:34.150Z"
      },
      {
        "duration": 321,
        "start_time": "2024-06-30T17:12:34.155Z"
      },
      {
        "duration": 4,
        "start_time": "2024-06-30T17:12:34.477Z"
      },
      {
        "duration": 17,
        "start_time": "2024-06-30T17:12:34.482Z"
      },
      {
        "duration": 267,
        "start_time": "2024-06-30T17:12:34.500Z"
      },
      {
        "duration": 194,
        "start_time": "2024-06-30T17:12:34.768Z"
      },
      {
        "duration": 184,
        "start_time": "2024-06-30T17:12:34.963Z"
      },
      {
        "duration": 3,
        "start_time": "2024-06-30T17:12:35.149Z"
      },
      {
        "duration": 22,
        "start_time": "2024-06-30T17:12:35.154Z"
      },
      {
        "duration": 329,
        "start_time": "2024-06-30T17:12:35.178Z"
      },
      {
        "duration": 215,
        "start_time": "2024-06-30T17:12:35.508Z"
      },
      {
        "duration": 13,
        "start_time": "2024-06-30T17:12:35.724Z"
      },
      {
        "duration": 89,
        "start_time": "2024-06-30T17:12:35.739Z"
      },
      {
        "duration": 292,
        "start_time": "2024-06-30T17:12:35.831Z"
      },
      {
        "duration": 3,
        "start_time": "2024-06-30T17:12:36.125Z"
      },
      {
        "duration": 282,
        "start_time": "2024-06-30T17:12:36.137Z"
      },
      {
        "duration": 2,
        "start_time": "2024-06-30T17:12:36.420Z"
      },
      {
        "duration": 13,
        "start_time": "2024-06-30T17:12:36.424Z"
      },
      {
        "duration": 230,
        "start_time": "2024-06-30T17:12:36.439Z"
      },
      {
        "duration": 3,
        "start_time": "2024-06-30T17:12:36.671Z"
      },
      {
        "duration": 13,
        "start_time": "2024-06-30T17:12:36.675Z"
      },
      {
        "duration": 28,
        "start_time": "2024-06-30T17:12:36.689Z"
      },
      {
        "duration": 7,
        "start_time": "2024-06-30T17:12:36.719Z"
      },
      {
        "duration": 7,
        "start_time": "2024-06-30T17:12:36.727Z"
      },
      {
        "duration": 8,
        "start_time": "2024-06-30T17:12:36.736Z"
      },
      {
        "duration": 387109,
        "start_time": "2024-06-30T17:12:36.745Z"
      },
      {
        "duration": 107,
        "start_time": "2024-06-30T17:19:03.855Z"
      },
      {
        "duration": 5,
        "start_time": "2024-06-30T17:19:03.964Z"
      },
      {
        "duration": 13,
        "start_time": "2024-06-30T17:19:03.971Z"
      },
      {
        "duration": 5,
        "start_time": "2024-06-30T17:19:03.986Z"
      },
      {
        "duration": 250,
        "start_time": "2024-06-30T17:19:03.992Z"
      },
      {
        "duration": 104,
        "start_time": "2024-06-30T17:19:56.081Z"
      },
      {
        "duration": 8,
        "start_time": "2024-06-30T17:19:58.426Z"
      },
      {
        "duration": 8,
        "start_time": "2024-06-30T17:20:01.150Z"
      },
      {
        "duration": 29,
        "start_time": "2024-06-30T17:20:22.158Z"
      },
      {
        "duration": 37,
        "start_time": "2024-06-30T17:20:31.030Z"
      },
      {
        "duration": 9,
        "start_time": "2024-06-30T17:20:57.748Z"
      },
      {
        "duration": 8,
        "start_time": "2024-06-30T17:21:53.183Z"
      },
      {
        "duration": 20,
        "start_time": "2024-06-30T17:22:39.575Z"
      },
      {
        "duration": 10658,
        "start_time": "2024-06-30T17:23:30.511Z"
      },
      {
        "duration": 5,
        "start_time": "2024-06-30T17:23:41.171Z"
      },
      {
        "duration": 20,
        "start_time": "2024-06-30T17:23:41.177Z"
      },
      {
        "duration": 72,
        "start_time": "2024-06-30T17:23:41.198Z"
      },
      {
        "duration": 7,
        "start_time": "2024-06-30T17:23:41.272Z"
      },
      {
        "duration": 21,
        "start_time": "2024-06-30T17:23:41.280Z"
      },
      {
        "duration": 13,
        "start_time": "2024-06-30T17:23:41.302Z"
      },
      {
        "duration": 8,
        "start_time": "2024-06-30T17:23:41.316Z"
      },
      {
        "duration": 223,
        "start_time": "2024-06-30T17:23:41.326Z"
      },
      {
        "duration": 9,
        "start_time": "2024-06-30T17:23:41.551Z"
      },
      {
        "duration": 15,
        "start_time": "2024-06-30T17:23:41.561Z"
      },
      {
        "duration": 21,
        "start_time": "2024-06-30T17:23:41.578Z"
      },
      {
        "duration": 386,
        "start_time": "2024-06-30T17:23:41.600Z"
      },
      {
        "duration": 7,
        "start_time": "2024-06-30T17:23:41.988Z"
      },
      {
        "duration": 22,
        "start_time": "2024-06-30T17:23:41.996Z"
      },
      {
        "duration": 265,
        "start_time": "2024-06-30T17:23:42.020Z"
      },
      {
        "duration": 4,
        "start_time": "2024-06-30T17:23:42.286Z"
      },
      {
        "duration": 34,
        "start_time": "2024-06-30T17:23:42.291Z"
      },
      {
        "duration": 265,
        "start_time": "2024-06-30T17:23:42.327Z"
      },
      {
        "duration": 232,
        "start_time": "2024-06-30T17:23:42.593Z"
      },
      {
        "duration": 197,
        "start_time": "2024-06-30T17:23:42.827Z"
      },
      {
        "duration": 4,
        "start_time": "2024-06-30T17:23:43.025Z"
      },
      {
        "duration": 16,
        "start_time": "2024-06-30T17:23:43.037Z"
      },
      {
        "duration": 360,
        "start_time": "2024-06-30T17:23:43.054Z"
      },
      {
        "duration": 208,
        "start_time": "2024-06-30T17:23:43.415Z"
      },
      {
        "duration": 3,
        "start_time": "2024-06-30T17:23:43.624Z"
      },
      {
        "duration": 12,
        "start_time": "2024-06-30T17:23:43.628Z"
      },
      {
        "duration": 249,
        "start_time": "2024-06-30T17:23:43.641Z"
      },
      {
        "duration": 3,
        "start_time": "2024-06-30T17:23:43.892Z"
      },
      {
        "duration": 275,
        "start_time": "2024-06-30T17:23:43.897Z"
      },
      {
        "duration": 2,
        "start_time": "2024-06-30T17:23:44.173Z"
      },
      {
        "duration": 5,
        "start_time": "2024-06-30T17:23:44.177Z"
      },
      {
        "duration": 134,
        "start_time": "2024-06-30T17:23:44.183Z"
      },
      {
        "duration": 2,
        "start_time": "2024-06-30T17:23:44.319Z"
      },
      {
        "duration": 8,
        "start_time": "2024-06-30T17:23:44.323Z"
      },
      {
        "duration": 8,
        "start_time": "2024-06-30T17:23:44.338Z"
      },
      {
        "duration": 22,
        "start_time": "2024-06-30T17:24:27.793Z"
      },
      {
        "duration": 11,
        "start_time": "2024-06-30T17:26:16.828Z"
      },
      {
        "duration": 7354,
        "start_time": "2024-06-30T17:26:41.237Z"
      },
      {
        "duration": 13482,
        "start_time": "2024-06-30T17:28:22.745Z"
      },
      {
        "duration": 6,
        "start_time": "2024-06-30T17:28:40.009Z"
      },
      {
        "duration": 28,
        "start_time": "2024-06-30T17:28:56.342Z"
      },
      {
        "duration": 5,
        "start_time": "2024-06-30T17:29:11.083Z"
      },
      {
        "duration": 37,
        "start_time": "2024-06-30T17:29:12.237Z"
      },
      {
        "duration": 7503,
        "start_time": "2024-06-30T17:29:40.086Z"
      },
      {
        "duration": 1258,
        "start_time": "2024-06-30T17:29:47.591Z"
      },
      {
        "duration": 2,
        "start_time": "2024-06-30T17:29:48.851Z"
      },
      {
        "duration": 69,
        "start_time": "2024-06-30T17:29:48.855Z"
      },
      {
        "duration": 10,
        "start_time": "2024-06-30T17:29:48.926Z"
      },
      {
        "duration": 9,
        "start_time": "2024-06-30T17:29:48.938Z"
      },
      {
        "duration": 4,
        "start_time": "2024-06-30T17:29:48.948Z"
      },
      {
        "duration": 2,
        "start_time": "2024-06-30T17:29:48.954Z"
      },
      {
        "duration": 307,
        "start_time": "2024-06-30T17:29:48.958Z"
      },
      {
        "duration": 11,
        "start_time": "2024-06-30T17:29:49.268Z"
      },
      {
        "duration": 16,
        "start_time": "2024-06-30T17:29:49.281Z"
      },
      {
        "duration": 30,
        "start_time": "2024-06-30T17:29:49.298Z"
      },
      {
        "duration": 441,
        "start_time": "2024-06-30T17:29:49.329Z"
      },
      {
        "duration": 6,
        "start_time": "2024-06-30T17:29:49.772Z"
      },
      {
        "duration": 81,
        "start_time": "2024-06-30T17:29:49.779Z"
      },
      {
        "duration": 345,
        "start_time": "2024-06-30T17:29:49.861Z"
      },
      {
        "duration": 3,
        "start_time": "2024-06-30T17:29:50.208Z"
      },
      {
        "duration": 30,
        "start_time": "2024-06-30T17:29:50.213Z"
      },
      {
        "duration": 267,
        "start_time": "2024-06-30T17:29:50.244Z"
      },
      {
        "duration": 185,
        "start_time": "2024-06-30T17:29:50.513Z"
      },
      {
        "duration": 183,
        "start_time": "2024-06-30T17:29:50.699Z"
      },
      {
        "duration": 3,
        "start_time": "2024-06-30T17:29:50.883Z"
      },
      {
        "duration": 17,
        "start_time": "2024-06-30T17:29:50.888Z"
      },
      {
        "duration": 270,
        "start_time": "2024-06-30T17:29:50.906Z"
      },
      {
        "duration": 223,
        "start_time": "2024-06-30T17:29:51.177Z"
      },
      {
        "duration": 2,
        "start_time": "2024-06-30T17:29:51.402Z"
      },
      {
        "duration": 25,
        "start_time": "2024-06-30T17:29:51.406Z"
      },
      {
        "duration": 280,
        "start_time": "2024-06-30T17:29:51.434Z"
      },
      {
        "duration": 5,
        "start_time": "2024-06-30T17:29:51.716Z"
      },
      {
        "duration": 274,
        "start_time": "2024-06-30T17:29:51.722Z"
      },
      {
        "duration": 3,
        "start_time": "2024-06-30T17:29:51.997Z"
      },
      {
        "duration": 17,
        "start_time": "2024-06-30T17:29:52.001Z"
      },
      {
        "duration": 136,
        "start_time": "2024-06-30T17:29:52.019Z"
      },
      {
        "duration": 2,
        "start_time": "2024-06-30T17:29:52.157Z"
      },
      {
        "duration": 31,
        "start_time": "2024-06-30T17:29:52.160Z"
      },
      {
        "duration": 138,
        "start_time": "2024-06-30T17:29:52.193Z"
      },
      {
        "duration": 0,
        "start_time": "2024-06-30T17:29:52.332Z"
      },
      {
        "duration": 0,
        "start_time": "2024-06-30T17:29:52.337Z"
      },
      {
        "duration": 0,
        "start_time": "2024-06-30T17:29:52.338Z"
      },
      {
        "duration": 0,
        "start_time": "2024-06-30T17:29:52.338Z"
      },
      {
        "duration": 0,
        "start_time": "2024-06-30T17:29:52.339Z"
      },
      {
        "duration": 0,
        "start_time": "2024-06-30T17:29:52.341Z"
      },
      {
        "duration": 0,
        "start_time": "2024-06-30T17:29:52.341Z"
      },
      {
        "duration": 0,
        "start_time": "2024-06-30T17:29:52.342Z"
      },
      {
        "duration": 0,
        "start_time": "2024-06-30T17:29:52.343Z"
      },
      {
        "duration": 7406,
        "start_time": "2024-06-30T17:31:38.089Z"
      },
      {
        "duration": 1248,
        "start_time": "2024-06-30T17:31:45.497Z"
      },
      {
        "duration": 2,
        "start_time": "2024-06-30T17:31:46.747Z"
      },
      {
        "duration": 65,
        "start_time": "2024-06-30T17:31:46.751Z"
      },
      {
        "duration": 11,
        "start_time": "2024-06-30T17:31:46.817Z"
      },
      {
        "duration": 10,
        "start_time": "2024-06-30T17:31:46.829Z"
      },
      {
        "duration": 5,
        "start_time": "2024-06-30T17:31:46.840Z"
      },
      {
        "duration": 18,
        "start_time": "2024-06-30T17:31:46.846Z"
      },
      {
        "duration": 313,
        "start_time": "2024-06-30T17:31:46.865Z"
      },
      {
        "duration": 12,
        "start_time": "2024-06-30T17:31:47.181Z"
      },
      {
        "duration": 2,
        "start_time": "2024-06-30T17:31:47.194Z"
      },
      {
        "duration": 6,
        "start_time": "2024-06-30T17:31:47.198Z"
      },
      {
        "duration": 465,
        "start_time": "2024-06-30T17:31:47.205Z"
      },
      {
        "duration": 8,
        "start_time": "2024-06-30T17:31:47.671Z"
      },
      {
        "duration": 4,
        "start_time": "2024-06-30T17:31:47.680Z"
      },
      {
        "duration": 342,
        "start_time": "2024-06-30T17:31:47.686Z"
      },
      {
        "duration": 8,
        "start_time": "2024-06-30T17:31:48.030Z"
      },
      {
        "duration": 3,
        "start_time": "2024-06-30T17:31:48.040Z"
      },
      {
        "duration": 306,
        "start_time": "2024-06-30T17:31:48.045Z"
      },
      {
        "duration": 215,
        "start_time": "2024-06-30T17:31:48.352Z"
      },
      {
        "duration": 181,
        "start_time": "2024-06-30T17:31:48.568Z"
      },
      {
        "duration": 4,
        "start_time": "2024-06-30T17:31:48.750Z"
      },
      {
        "duration": 11,
        "start_time": "2024-06-30T17:31:48.755Z"
      },
      {
        "duration": 237,
        "start_time": "2024-06-30T17:31:48.767Z"
      },
      {
        "duration": 200,
        "start_time": "2024-06-30T17:31:49.005Z"
      },
      {
        "duration": 3,
        "start_time": "2024-06-30T17:31:49.206Z"
      },
      {
        "duration": 26,
        "start_time": "2024-06-30T17:31:49.210Z"
      },
      {
        "duration": 247,
        "start_time": "2024-06-30T17:31:49.239Z"
      },
      {
        "duration": 6,
        "start_time": "2024-06-30T17:31:49.488Z"
      },
      {
        "duration": 267,
        "start_time": "2024-06-30T17:31:49.496Z"
      },
      {
        "duration": 3,
        "start_time": "2024-06-30T17:31:49.765Z"
      },
      {
        "duration": 22,
        "start_time": "2024-06-30T17:31:49.770Z"
      },
      {
        "duration": 198,
        "start_time": "2024-06-30T17:31:49.794Z"
      },
      {
        "duration": 3,
        "start_time": "2024-06-30T17:31:49.994Z"
      },
      {
        "duration": 32,
        "start_time": "2024-06-30T17:31:49.999Z"
      },
      {
        "duration": 12,
        "start_time": "2024-06-30T17:31:50.033Z"
      },
      {
        "duration": 17,
        "start_time": "2024-06-30T17:31:50.047Z"
      },
      {
        "duration": 22,
        "start_time": "2024-06-30T17:31:50.066Z"
      },
      {
        "duration": 3,
        "start_time": "2024-06-30T17:31:50.090Z"
      },
      {
        "duration": 265745,
        "start_time": "2024-06-30T17:31:50.095Z"
      },
      {
        "duration": 192,
        "start_time": "2024-06-30T17:36:15.847Z"
      },
      {
        "duration": 9,
        "start_time": "2024-06-30T17:36:16.041Z"
      },
      {
        "duration": 11,
        "start_time": "2024-06-30T17:36:16.052Z"
      },
      {
        "duration": 74,
        "start_time": "2024-06-30T17:36:16.066Z"
      },
      {
        "duration": 302,
        "start_time": "2024-06-30T17:36:16.142Z"
      },
      {
        "duration": 20,
        "start_time": "2024-06-30T17:38:59.715Z"
      }
    ],
    "kernelspec": {
      "display_name": "Python 3 (ipykernel)",
      "language": "python",
      "name": "python3"
    },
    "language_info": {
      "codemirror_mode": {
        "name": "ipython",
        "version": 3
      },
      "file_extension": ".py",
      "mimetype": "text/x-python",
      "name": "python",
      "nbconvert_exporter": "python",
      "pygments_lexer": "ipython3",
      "version": "3.9.5"
    },
    "toc": {
      "base_numbering": 1,
      "nav_menu": {},
      "number_sections": true,
      "sideBar": true,
      "skip_h1_title": true,
      "title_cell": "Table of Contents",
      "title_sidebar": "Contents",
      "toc_cell": false,
      "toc_position": {
        "height": "calc(100% - 180px)",
        "left": "10px",
        "top": "150px",
        "width": "273.151px"
      },
      "toc_section_display": true,
      "toc_window_display": true
    },
    "colab": {
      "provenance": []
    }
  },
  "nbformat": 4,
  "nbformat_minor": 5
}